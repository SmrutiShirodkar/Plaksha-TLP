{
  "nbformat": 4,
  "nbformat_minor": 0,
  "metadata": {
    "colab": {
      "name": "ProjectDS_Exam-1.ipynb",
      "provenance": [],
      "collapsed_sections": []
    },
    "kernelspec": {
      "name": "python3",
      "display_name": "Python 3"
    },
    "language_info": {
      "name": "python"
    }
  },
  "cells": [
    {
      "cell_type": "code",
      "execution_count": 1,
      "metadata": {
        "id": "GU8B3MPqcqjf"
      },
      "outputs": [],
      "source": [
        "import pandas as pd\n",
        "import bs4 as bs\n",
        "import numpy as np\n",
        "import requests\n",
        "import re"
      ]
    },
    {
      "cell_type": "markdown",
      "source": [
        "**Use BeautifulSoup and Requests or Pandas to scrape the table “COVID-19 cases, deaths, and rates by location” under Statistics / Total cases, deaths, and death rates by country (Our World in Data) on this Wikipedia page: https://en.wikipedia.org/wiki/COVID-19_pandemic_by_country_and_territory**"
      ],
      "metadata": {
        "id": "hQKZ5TLcESxG"
      }
    },
    {
      "cell_type": "code",
      "source": [
        "source = requests.get(\"https://en.wikipedia.org/wiki/COVID-19_pandemic_by_country_and_territory\")\n",
        "print(source)"
      ],
      "metadata": {
        "id": "uGXrIalRkxU9",
        "colab": {
          "base_uri": "https://localhost:8080/"
        },
        "outputId": "ccc46a32-2bce-4473-ca66-a66db6b93f02"
      },
      "execution_count": 2,
      "outputs": [
        {
          "output_type": "stream",
          "name": "stdout",
          "text": [
            "<Response [200]>\n"
          ]
        }
      ]
    },
    {
      "cell_type": "markdown",
      "source": [
        "*   **Convert the scraped data to a Pandas DataFrame.**\n",
        "\n"
      ],
      "metadata": {
        "id": "kb_IlvRjEWWC"
      }
    },
    {
      "cell_type": "code",
      "source": [
        "soup = bs.BeautifulSoup(source.content, features='html.parser')\n",
        "\n",
        "covid_df = pd.read_html(str(soup.find('table', attrs = {'id':'table65150380'})))[0]\n",
        "print(covid_df.columns)\n",
        "covid_df = covid_df.loc[:,['Country.1', 'Deathsper million', 'Deaths', 'Cases']]\n",
        "print(covid_df.head())"
      ],
      "metadata": {
        "id": "IMq9n76VkyyF",
        "colab": {
          "base_uri": "https://localhost:8080/"
        },
        "outputId": "0444dc6c-a9e6-4a84-e8db-cf8781c05ed3"
      },
      "execution_count": 3,
      "outputs": [
        {
          "output_type": "stream",
          "name": "stdout",
          "text": [
            "Index(['Country', 'Country.1', 'Deathsper million', 'Deaths', 'Cases',\n",
            "       'Unnamed: 5', 'Unnamed: 6', 'Unnamed: 7'],\n",
            "      dtype='object')\n",
            "                Country.1 Deathsper million   Deaths      Cases\n",
            "0                World[a]               687  5414213  282800017\n",
            "1                    Peru              6070   202524    2279299\n",
            "2                Bulgaria              4445    30657     737233\n",
            "3  Bosnia and Herzegovina              4095    13365     288876\n",
            "4                 Hungary              4037    38894    1246689\n"
          ]
        }
      ]
    },
    {
      "cell_type": "markdown",
      "source": [
        "*   **Transform the Pandas DataFrame so that it has country, deaths_per_million, deaths, cases as columns (no other data should be present). Print the head of the resulting DataFrame.**\n",
        "\n"
      ],
      "metadata": {
        "id": "uWPTD3EpEf7V"
      }
    },
    {
      "cell_type": "code",
      "source": [
        "covid_df.columns = ['country', 'deaths_per_million', 'deaths', 'cases']\n",
        "covid_df.head(3)"
      ],
      "metadata": {
        "id": "Lwh1H1eCk13N",
        "colab": {
          "base_uri": "https://localhost:8080/",
          "height": 142
        },
        "outputId": "c48ae7bb-c0fd-4987-ad85-9cd508432276"
      },
      "execution_count": 4,
      "outputs": [
        {
          "output_type": "execute_result",
          "data": {
            "text/html": [
              "\n",
              "  <div id=\"df-966781a2-93ae-48d9-b810-88bc283a4eb7\">\n",
              "    <div class=\"colab-df-container\">\n",
              "      <div>\n",
              "<style scoped>\n",
              "    .dataframe tbody tr th:only-of-type {\n",
              "        vertical-align: middle;\n",
              "    }\n",
              "\n",
              "    .dataframe tbody tr th {\n",
              "        vertical-align: top;\n",
              "    }\n",
              "\n",
              "    .dataframe thead th {\n",
              "        text-align: right;\n",
              "    }\n",
              "</style>\n",
              "<table border=\"1\" class=\"dataframe\">\n",
              "  <thead>\n",
              "    <tr style=\"text-align: right;\">\n",
              "      <th></th>\n",
              "      <th>country</th>\n",
              "      <th>deaths_per_million</th>\n",
              "      <th>deaths</th>\n",
              "      <th>cases</th>\n",
              "    </tr>\n",
              "  </thead>\n",
              "  <tbody>\n",
              "    <tr>\n",
              "      <th>0</th>\n",
              "      <td>World[a]</td>\n",
              "      <td>687</td>\n",
              "      <td>5414213</td>\n",
              "      <td>282800017</td>\n",
              "    </tr>\n",
              "    <tr>\n",
              "      <th>1</th>\n",
              "      <td>Peru</td>\n",
              "      <td>6070</td>\n",
              "      <td>202524</td>\n",
              "      <td>2279299</td>\n",
              "    </tr>\n",
              "    <tr>\n",
              "      <th>2</th>\n",
              "      <td>Bulgaria</td>\n",
              "      <td>4445</td>\n",
              "      <td>30657</td>\n",
              "      <td>737233</td>\n",
              "    </tr>\n",
              "  </tbody>\n",
              "</table>\n",
              "</div>\n",
              "      <button class=\"colab-df-convert\" onclick=\"convertToInteractive('df-966781a2-93ae-48d9-b810-88bc283a4eb7')\"\n",
              "              title=\"Convert this dataframe to an interactive table.\"\n",
              "              style=\"display:none;\">\n",
              "        \n",
              "  <svg xmlns=\"http://www.w3.org/2000/svg\" height=\"24px\"viewBox=\"0 0 24 24\"\n",
              "       width=\"24px\">\n",
              "    <path d=\"M0 0h24v24H0V0z\" fill=\"none\"/>\n",
              "    <path d=\"M18.56 5.44l.94 2.06.94-2.06 2.06-.94-2.06-.94-.94-2.06-.94 2.06-2.06.94zm-11 1L8.5 8.5l.94-2.06 2.06-.94-2.06-.94L8.5 2.5l-.94 2.06-2.06.94zm10 10l.94 2.06.94-2.06 2.06-.94-2.06-.94-.94-2.06-.94 2.06-2.06.94z\"/><path d=\"M17.41 7.96l-1.37-1.37c-.4-.4-.92-.59-1.43-.59-.52 0-1.04.2-1.43.59L10.3 9.45l-7.72 7.72c-.78.78-.78 2.05 0 2.83L4 21.41c.39.39.9.59 1.41.59.51 0 1.02-.2 1.41-.59l7.78-7.78 2.81-2.81c.8-.78.8-2.07 0-2.86zM5.41 20L4 18.59l7.72-7.72 1.47 1.35L5.41 20z\"/>\n",
              "  </svg>\n",
              "      </button>\n",
              "      \n",
              "  <style>\n",
              "    .colab-df-container {\n",
              "      display:flex;\n",
              "      flex-wrap:wrap;\n",
              "      gap: 12px;\n",
              "    }\n",
              "\n",
              "    .colab-df-convert {\n",
              "      background-color: #E8F0FE;\n",
              "      border: none;\n",
              "      border-radius: 50%;\n",
              "      cursor: pointer;\n",
              "      display: none;\n",
              "      fill: #1967D2;\n",
              "      height: 32px;\n",
              "      padding: 0 0 0 0;\n",
              "      width: 32px;\n",
              "    }\n",
              "\n",
              "    .colab-df-convert:hover {\n",
              "      background-color: #E2EBFA;\n",
              "      box-shadow: 0px 1px 2px rgba(60, 64, 67, 0.3), 0px 1px 3px 1px rgba(60, 64, 67, 0.15);\n",
              "      fill: #174EA6;\n",
              "    }\n",
              "\n",
              "    [theme=dark] .colab-df-convert {\n",
              "      background-color: #3B4455;\n",
              "      fill: #D2E3FC;\n",
              "    }\n",
              "\n",
              "    [theme=dark] .colab-df-convert:hover {\n",
              "      background-color: #434B5C;\n",
              "      box-shadow: 0px 1px 3px 1px rgba(0, 0, 0, 0.15);\n",
              "      filter: drop-shadow(0px 1px 2px rgba(0, 0, 0, 0.3));\n",
              "      fill: #FFFFFF;\n",
              "    }\n",
              "  </style>\n",
              "\n",
              "      <script>\n",
              "        const buttonEl =\n",
              "          document.querySelector('#df-966781a2-93ae-48d9-b810-88bc283a4eb7 button.colab-df-convert');\n",
              "        buttonEl.style.display =\n",
              "          google.colab.kernel.accessAllowed ? 'block' : 'none';\n",
              "\n",
              "        async function convertToInteractive(key) {\n",
              "          const element = document.querySelector('#df-966781a2-93ae-48d9-b810-88bc283a4eb7');\n",
              "          const dataTable =\n",
              "            await google.colab.kernel.invokeFunction('convertToInteractive',\n",
              "                                                     [key], {});\n",
              "          if (!dataTable) return;\n",
              "\n",
              "          const docLinkHtml = 'Like what you see? Visit the ' +\n",
              "            '<a target=\"_blank\" href=https://colab.research.google.com/notebooks/data_table.ipynb>data table notebook</a>'\n",
              "            + ' to learn more about interactive tables.';\n",
              "          element.innerHTML = '';\n",
              "          dataTable['output_type'] = 'display_data';\n",
              "          await google.colab.output.renderOutput(dataTable, element);\n",
              "          const docLink = document.createElement('div');\n",
              "          docLink.innerHTML = docLinkHtml;\n",
              "          element.appendChild(docLink);\n",
              "        }\n",
              "      </script>\n",
              "    </div>\n",
              "  </div>\n",
              "  "
            ],
            "text/plain": [
              "    country deaths_per_million   deaths      cases\n",
              "0  World[a]                687  5414213  282800017\n",
              "1      Peru               6070   202524    2279299\n",
              "2  Bulgaria               4445    30657     737233"
            ]
          },
          "metadata": {},
          "execution_count": 4
        }
      ]
    },
    {
      "cell_type": "markdown",
      "source": [
        "*   **Drop any row that does not contain country or region information. I.e. drop all the rows that do not contain numerical data.**\n",
        "*   **Drop all rows of countries with zero recorded deaths or non-numeric death data.**"
      ],
      "metadata": {
        "id": "R6CHVx0_FCAC"
      }
    },
    {
      "cell_type": "code",
      "source": [
        "covid_df = covid_df.drop([217], axis = 0)\n",
        "print(covid_df.head())\n",
        "covid_df = covid_df.replace('—', '0')\n",
        "covid_df = covid_df[covid_df.deaths != '0']\n"
      ],
      "metadata": {
        "id": "AsF7xbNGk7VB",
        "colab": {
          "base_uri": "https://localhost:8080/"
        },
        "outputId": "5e648741-6f4a-45d7-a536-a69793708d51"
      },
      "execution_count": 5,
      "outputs": [
        {
          "output_type": "stream",
          "name": "stdout",
          "text": [
            "                  country deaths_per_million   deaths      cases\n",
            "0                World[a]                687  5414213  282800017\n",
            "1                    Peru               6070   202524    2279299\n",
            "2                Bulgaria               4445    30657     737233\n",
            "3  Bosnia and Herzegovina               4095    13365     288876\n",
            "4                 Hungary               4037    38894    1246689\n"
          ]
        }
      ]
    },
    {
      "cell_type": "markdown",
      "source": [
        "*   **Use string formatting to remove the square bracket information from region names (e.g. World[a], European Union[b] should be World, European Union).**\n",
        "\n"
      ],
      "metadata": {
        "id": "wK4ZkOUXFGWn"
      }
    },
    {
      "cell_type": "code",
      "source": [
        "covid_df.country = covid_df['country'].replace(\"\\[.*\\]\", \"\",regex=True)\n",
        "print(covid_df.head())"
      ],
      "metadata": {
        "id": "EvasmCnmXDhu",
        "colab": {
          "base_uri": "https://localhost:8080/"
        },
        "outputId": "8b50cdb0-9eea-4277-91c6-c573ebca5806"
      },
      "execution_count": 6,
      "outputs": [
        {
          "output_type": "stream",
          "name": "stdout",
          "text": [
            "                  country deaths_per_million   deaths      cases\n",
            "0                   World                687  5414213  282800017\n",
            "1                    Peru               6070   202524    2279299\n",
            "2                Bulgaria               4445    30657     737233\n",
            "3  Bosnia and Herzegovina               4095    13365     288876\n",
            "4                 Hungary               4037    38894    1246689\n"
          ]
        }
      ]
    },
    {
      "cell_type": "markdown",
      "source": [
        "*   **Assign the DataFrame index to be the country name.**\n",
        "\n"
      ],
      "metadata": {
        "id": "uexQL4MMFMFy"
      }
    },
    {
      "cell_type": "code",
      "source": [
        "covid_df = covid_df.set_index('country')"
      ],
      "metadata": {
        "id": "rS92g9ghXng5"
      },
      "execution_count": 7,
      "outputs": []
    },
    {
      "cell_type": "markdown",
      "source": [
        "*   **Convert the datatype of all DataFrame values from objects to integers.**\n",
        "\n"
      ],
      "metadata": {
        "id": "NLHh4d6xFSHy"
      }
    },
    {
      "cell_type": "code",
      "source": [
        "covid_df = covid_df.astype({'deaths_per_million':int, 'deaths':int, 'cases':int})"
      ],
      "metadata": {
        "id": "yFtWzAkMXnj0"
      },
      "execution_count": 8,
      "outputs": []
    },
    {
      "cell_type": "markdown",
      "source": [
        "*   **Create a new column called cases_per_deaths and assign it the value number of cases divided by deaths.**\n",
        "\n"
      ],
      "metadata": {
        "id": "bnyS-qxrFU2k"
      }
    },
    {
      "cell_type": "code",
      "source": [
        "# Create a new column called cases_per_deaths and assign it the value number of cases divided by deaths.\n",
        "covid_df['cases_per_deaths'] = round(covid_df['cases']/covid_df['deaths'])\n",
        "print(covid_df.head())"
      ],
      "metadata": {
        "colab": {
          "base_uri": "https://localhost:8080/"
        },
        "id": "znHWGCIxXqS1",
        "outputId": "13be0b99-616e-433f-deae-e30ad7606351"
      },
      "execution_count": 9,
      "outputs": [
        {
          "output_type": "stream",
          "name": "stdout",
          "text": [
            "                        deaths_per_million  ...  cases_per_deaths\n",
            "country                                     ...                  \n",
            "World                                  687  ...              52.0\n",
            "Peru                                  6070  ...              11.0\n",
            "Bulgaria                              4445  ...              24.0\n",
            "Bosnia and Herzegovina                4095  ...              22.0\n",
            "Hungary                               4037  ...              32.0\n",
            "\n",
            "[5 rows x 4 columns]\n"
          ]
        }
      ]
    },
    {
      "cell_type": "markdown",
      "source": [
        "*  **Sort the DataFrame so that the countries with the highest number of cases_per_deaths come first. Print the first 20 rows of your sorted DataFrame**\n",
        "\n"
      ],
      "metadata": {
        "id": "Tl6JiLOGF1cP"
      }
    },
    {
      "cell_type": "code",
      "source": [
        "covid_df.sort_values('cases_per_deaths', ascending = False).head(20)"
      ],
      "metadata": {
        "id": "KPMQGZY7oH1w",
        "colab": {
          "base_uri": "https://localhost:8080/",
          "height": 707
        },
        "outputId": "dabb6f5a-16d6-4cce-9a8c-f9e48dadcb23"
      },
      "execution_count": 10,
      "outputs": [
        {
          "output_type": "execute_result",
          "data": {
            "text/html": [
              "\n",
              "  <div id=\"df-aff99dc6-fc3a-45e3-8707-3d8b3baa0275\">\n",
              "    <div class=\"colab-df-container\">\n",
              "      <div>\n",
              "<style scoped>\n",
              "    .dataframe tbody tr th:only-of-type {\n",
              "        vertical-align: middle;\n",
              "    }\n",
              "\n",
              "    .dataframe tbody tr th {\n",
              "        vertical-align: top;\n",
              "    }\n",
              "\n",
              "    .dataframe thead th {\n",
              "        text-align: right;\n",
              "    }\n",
              "</style>\n",
              "<table border=\"1\" class=\"dataframe\">\n",
              "  <thead>\n",
              "    <tr style=\"text-align: right;\">\n",
              "      <th></th>\n",
              "      <th>deaths_per_million</th>\n",
              "      <th>deaths</th>\n",
              "      <th>cases</th>\n",
              "      <th>cases_per_deaths</th>\n",
              "    </tr>\n",
              "    <tr>\n",
              "      <th>country</th>\n",
              "      <th></th>\n",
              "      <th></th>\n",
              "      <th></th>\n",
              "      <th></th>\n",
              "    </tr>\n",
              "  </thead>\n",
              "  <tbody>\n",
              "    <tr>\n",
              "      <th>Greenland</th>\n",
              "      <td>17</td>\n",
              "      <td>1</td>\n",
              "      <td>2437</td>\n",
              "      <td>2437.0</td>\n",
              "    </tr>\n",
              "    <tr>\n",
              "      <th>Bhutan</th>\n",
              "      <td>3</td>\n",
              "      <td>3</td>\n",
              "      <td>2660</td>\n",
              "      <td>887.0</td>\n",
              "    </tr>\n",
              "    <tr>\n",
              "      <th>Cayman Islands</th>\n",
              "      <td>165</td>\n",
              "      <td>11</td>\n",
              "      <td>8386</td>\n",
              "      <td>762.0</td>\n",
              "    </tr>\n",
              "    <tr>\n",
              "      <th>Burundi</th>\n",
              "      <td>3</td>\n",
              "      <td>38</td>\n",
              "      <td>26999</td>\n",
              "      <td>710.0</td>\n",
              "    </tr>\n",
              "    <tr>\n",
              "      <th>Iceland</th>\n",
              "      <td>107</td>\n",
              "      <td>37</td>\n",
              "      <td>25314</td>\n",
              "      <td>684.0</td>\n",
              "    </tr>\n",
              "    <tr>\n",
              "      <th>Faroe Islands</th>\n",
              "      <td>265</td>\n",
              "      <td>13</td>\n",
              "      <td>5261</td>\n",
              "      <td>405.0</td>\n",
              "    </tr>\n",
              "    <tr>\n",
              "      <th>Qatar</th>\n",
              "      <td>210</td>\n",
              "      <td>616</td>\n",
              "      <td>248802</td>\n",
              "      <td>404.0</td>\n",
              "    </tr>\n",
              "    <tr>\n",
              "      <th>Maldives</th>\n",
              "      <td>481</td>\n",
              "      <td>262</td>\n",
              "      <td>95222</td>\n",
              "      <td>363.0</td>\n",
              "    </tr>\n",
              "    <tr>\n",
              "      <th>United Arab Emirates</th>\n",
              "      <td>216</td>\n",
              "      <td>2160</td>\n",
              "      <td>754911</td>\n",
              "      <td>349.0</td>\n",
              "    </tr>\n",
              "    <tr>\n",
              "      <th>Singapore</th>\n",
              "      <td>151</td>\n",
              "      <td>825</td>\n",
              "      <td>278409</td>\n",
              "      <td>337.0</td>\n",
              "    </tr>\n",
              "    <tr>\n",
              "      <th>Anguilla</th>\n",
              "      <td>330</td>\n",
              "      <td>5</td>\n",
              "      <td>1674</td>\n",
              "      <td>335.0</td>\n",
              "    </tr>\n",
              "    <tr>\n",
              "      <th>Laos</th>\n",
              "      <td>46</td>\n",
              "      <td>342</td>\n",
              "      <td>107740</td>\n",
              "      <td>315.0</td>\n",
              "    </tr>\n",
              "    <tr>\n",
              "      <th>Norway</th>\n",
              "      <td>230</td>\n",
              "      <td>1258</td>\n",
              "      <td>382789</td>\n",
              "      <td>304.0</td>\n",
              "    </tr>\n",
              "    <tr>\n",
              "      <th>New Zealand</th>\n",
              "      <td>9</td>\n",
              "      <td>51</td>\n",
              "      <td>13986</td>\n",
              "      <td>274.0</td>\n",
              "    </tr>\n",
              "    <tr>\n",
              "      <th>Cyprus</th>\n",
              "      <td>703</td>\n",
              "      <td>630</td>\n",
              "      <td>154926</td>\n",
              "      <td>246.0</td>\n",
              "    </tr>\n",
              "    <tr>\n",
              "      <th>Denmark</th>\n",
              "      <td>555</td>\n",
              "      <td>3231</td>\n",
              "      <td>739071</td>\n",
              "      <td>229.0</td>\n",
              "    </tr>\n",
              "    <tr>\n",
              "      <th>Isle of Man</th>\n",
              "      <td>784</td>\n",
              "      <td>67</td>\n",
              "      <td>13487</td>\n",
              "      <td>201.0</td>\n",
              "    </tr>\n",
              "    <tr>\n",
              "      <th>Bahrain</th>\n",
              "      <td>797</td>\n",
              "      <td>1394</td>\n",
              "      <td>280482</td>\n",
              "      <td>201.0</td>\n",
              "    </tr>\n",
              "    <tr>\n",
              "      <th>Mongolia</th>\n",
              "      <td>617</td>\n",
              "      <td>2056</td>\n",
              "      <td>388755</td>\n",
              "      <td>189.0</td>\n",
              "    </tr>\n",
              "    <tr>\n",
              "      <th>Seychelles</th>\n",
              "      <td>1324</td>\n",
              "      <td>131</td>\n",
              "      <td>24451</td>\n",
              "      <td>187.0</td>\n",
              "    </tr>\n",
              "  </tbody>\n",
              "</table>\n",
              "</div>\n",
              "      <button class=\"colab-df-convert\" onclick=\"convertToInteractive('df-aff99dc6-fc3a-45e3-8707-3d8b3baa0275')\"\n",
              "              title=\"Convert this dataframe to an interactive table.\"\n",
              "              style=\"display:none;\">\n",
              "        \n",
              "  <svg xmlns=\"http://www.w3.org/2000/svg\" height=\"24px\"viewBox=\"0 0 24 24\"\n",
              "       width=\"24px\">\n",
              "    <path d=\"M0 0h24v24H0V0z\" fill=\"none\"/>\n",
              "    <path d=\"M18.56 5.44l.94 2.06.94-2.06 2.06-.94-2.06-.94-.94-2.06-.94 2.06-2.06.94zm-11 1L8.5 8.5l.94-2.06 2.06-.94-2.06-.94L8.5 2.5l-.94 2.06-2.06.94zm10 10l.94 2.06.94-2.06 2.06-.94-2.06-.94-.94-2.06-.94 2.06-2.06.94z\"/><path d=\"M17.41 7.96l-1.37-1.37c-.4-.4-.92-.59-1.43-.59-.52 0-1.04.2-1.43.59L10.3 9.45l-7.72 7.72c-.78.78-.78 2.05 0 2.83L4 21.41c.39.39.9.59 1.41.59.51 0 1.02-.2 1.41-.59l7.78-7.78 2.81-2.81c.8-.78.8-2.07 0-2.86zM5.41 20L4 18.59l7.72-7.72 1.47 1.35L5.41 20z\"/>\n",
              "  </svg>\n",
              "      </button>\n",
              "      \n",
              "  <style>\n",
              "    .colab-df-container {\n",
              "      display:flex;\n",
              "      flex-wrap:wrap;\n",
              "      gap: 12px;\n",
              "    }\n",
              "\n",
              "    .colab-df-convert {\n",
              "      background-color: #E8F0FE;\n",
              "      border: none;\n",
              "      border-radius: 50%;\n",
              "      cursor: pointer;\n",
              "      display: none;\n",
              "      fill: #1967D2;\n",
              "      height: 32px;\n",
              "      padding: 0 0 0 0;\n",
              "      width: 32px;\n",
              "    }\n",
              "\n",
              "    .colab-df-convert:hover {\n",
              "      background-color: #E2EBFA;\n",
              "      box-shadow: 0px 1px 2px rgba(60, 64, 67, 0.3), 0px 1px 3px 1px rgba(60, 64, 67, 0.15);\n",
              "      fill: #174EA6;\n",
              "    }\n",
              "\n",
              "    [theme=dark] .colab-df-convert {\n",
              "      background-color: #3B4455;\n",
              "      fill: #D2E3FC;\n",
              "    }\n",
              "\n",
              "    [theme=dark] .colab-df-convert:hover {\n",
              "      background-color: #434B5C;\n",
              "      box-shadow: 0px 1px 3px 1px rgba(0, 0, 0, 0.15);\n",
              "      filter: drop-shadow(0px 1px 2px rgba(0, 0, 0, 0.3));\n",
              "      fill: #FFFFFF;\n",
              "    }\n",
              "  </style>\n",
              "\n",
              "      <script>\n",
              "        const buttonEl =\n",
              "          document.querySelector('#df-aff99dc6-fc3a-45e3-8707-3d8b3baa0275 button.colab-df-convert');\n",
              "        buttonEl.style.display =\n",
              "          google.colab.kernel.accessAllowed ? 'block' : 'none';\n",
              "\n",
              "        async function convertToInteractive(key) {\n",
              "          const element = document.querySelector('#df-aff99dc6-fc3a-45e3-8707-3d8b3baa0275');\n",
              "          const dataTable =\n",
              "            await google.colab.kernel.invokeFunction('convertToInteractive',\n",
              "                                                     [key], {});\n",
              "          if (!dataTable) return;\n",
              "\n",
              "          const docLinkHtml = 'Like what you see? Visit the ' +\n",
              "            '<a target=\"_blank\" href=https://colab.research.google.com/notebooks/data_table.ipynb>data table notebook</a>'\n",
              "            + ' to learn more about interactive tables.';\n",
              "          element.innerHTML = '';\n",
              "          dataTable['output_type'] = 'display_data';\n",
              "          await google.colab.output.renderOutput(dataTable, element);\n",
              "          const docLink = document.createElement('div');\n",
              "          docLink.innerHTML = docLinkHtml;\n",
              "          element.appendChild(docLink);\n",
              "        }\n",
              "      </script>\n",
              "    </div>\n",
              "  </div>\n",
              "  "
            ],
            "text/plain": [
              "                      deaths_per_million  deaths   cases  cases_per_deaths\n",
              "country                                                                   \n",
              "Greenland                             17       1    2437            2437.0\n",
              "Bhutan                                 3       3    2660             887.0\n",
              "Cayman Islands                       165      11    8386             762.0\n",
              "Burundi                                3      38   26999             710.0\n",
              "Iceland                              107      37   25314             684.0\n",
              "Faroe Islands                        265      13    5261             405.0\n",
              "Qatar                                210     616  248802             404.0\n",
              "Maldives                             481     262   95222             363.0\n",
              "United Arab Emirates                 216    2160  754911             349.0\n",
              "Singapore                            151     825  278409             337.0\n",
              "Anguilla                             330       5    1674             335.0\n",
              "Laos                                  46     342  107740             315.0\n",
              "Norway                               230    1258  382789             304.0\n",
              "New Zealand                            9      51   13986             274.0\n",
              "Cyprus                               703     630  154926             246.0\n",
              "Denmark                              555    3231  739071             229.0\n",
              "Isle of Man                          784      67   13487             201.0\n",
              "Bahrain                              797    1394  280482             201.0\n",
              "Mongolia                             617    2056  388755             189.0\n",
              "Seychelles                          1324     131   24451             187.0"
            ]
          },
          "metadata": {},
          "execution_count": 10
        }
      ]
    },
    {
      "cell_type": "markdown",
      "source": [
        "**Write what the cases per death number indicates for countries with a high value and countries with a low value?**\n",
        "\n",
        "The 'cases_per_deaths' column indicates the number of deaths among the number of cases of a country. \n",
        "\n",
        "Thus, the highest cases_per_deaths shows that for every one death, there have been 2437 cases found. Which means among 2437 cases, one death was seen. \n",
        "\n",
        "Similarly, the low cases_per_deaths shows that the death rate is comparatively high as per there is 1 death per approx 5 cases. \n",
        "\n",
        "\n"
      ],
      "metadata": {
        "id": "e0W_3YLDts3_"
      }
    }
  ]
}