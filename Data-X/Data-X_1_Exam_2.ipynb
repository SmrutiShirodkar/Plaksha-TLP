{
  "nbformat": 4,
  "nbformat_minor": 0,
  "metadata": {
    "colab": {
      "name": "ProjectDS_Exam-2.ipynb",
      "provenance": []
    },
    "kernelspec": {
      "name": "python3",
      "display_name": "Python 3"
    },
    "language_info": {
      "name": "python"
    }
  },
  "cells": [
    {
      "cell_type": "code",
      "execution_count": 1,
      "metadata": {
        "id": "B1e09tVKpXOX"
      },
      "outputs": [],
      "source": [
        "import matplotlib.pyplot as plt\n",
        "import numpy as np\n",
        "import pandas as pd"
      ]
    },
    {
      "cell_type": "code",
      "source": [
        "csv_url = 'https://covid.ourworldindata.org/data/owid-covid-data.csv'\n",
        "\n",
        "death_df = pd.read_csv(csv_url)\n",
        "\n",
        "print(death_df[death_df.location == 'World'].tail())\n",
        "\n"
      ],
      "metadata": {
        "colab": {
          "base_uri": "https://localhost:8080/",
          "height": 0
        },
        "id": "XrE5PIXmZ5NM",
        "outputId": "031845ba-0258-4a03-a71b-c06968b1dd30"
      },
      "execution_count": 2,
      "outputs": [
        {
          "output_type": "stream",
          "name": "stdout",
          "text": [
            "        iso_code  ... excess_mortality_cumulative_per_million\n",
            "148921  OWID_WRL  ...                                     NaN\n",
            "148922  OWID_WRL  ...                                     NaN\n",
            "148923  OWID_WRL  ...                                     NaN\n",
            "148924  OWID_WRL  ...                                     NaN\n",
            "148925  OWID_WRL  ...                                     NaN\n",
            "\n",
            "[5 rows x 67 columns]\n"
          ]
        }
      ]
    },
    {
      "cell_type": "markdown",
      "source": [
        "0. Make sure that the date column is a Pandas datetime object. Groupby date, and sum the number of deaths per date. Also fill all missing values with 0."
      ],
      "metadata": {
        "id": "7h4lW0IoB7dr"
      }
    },
    {
      "cell_type": "code",
      "source": [
        "death_df.date = pd.to_datetime(death_df.date)\n",
        "death_df = death_df[death_df.location == 'World'][['date', 'total_deaths','total_cases']]\n",
        "death_df.fillna(0, inplace=True)\n",
        "print(death_df.date.dtype)\n",
        "print(death_df.head())"
      ],
      "metadata": {
        "colab": {
          "base_uri": "https://localhost:8080/",
          "height": 0
        },
        "id": "M3UwIxYPdCbQ",
        "outputId": "efa228ee-cd91-4e58-fca8-bdfc444ac585"
      },
      "execution_count": 3,
      "outputs": [
        {
          "output_type": "stream",
          "name": "stdout",
          "text": [
            "datetime64[ns]\n",
            "             date  total_deaths  total_cases\n",
            "148218 2020-01-22          17.0        557.0\n",
            "148219 2020-01-23          18.0        655.0\n",
            "148220 2020-01-24          26.0        941.0\n",
            "148221 2020-01-25          42.0       1434.0\n",
            "148222 2020-01-26          56.0       2118.0\n"
          ]
        }
      ]
    },
    {
      "cell_type": "markdown",
      "source": [
        "1. Use Matplotlib or Pandas to plot the total number of deaths over time globally from the 1st of Jan 2020 until the 23rd of Dec 2021"
      ],
      "metadata": {
        "id": "W74cXc2GCHzV"
      }
    },
    {
      "cell_type": "code",
      "source": [
        "import matplotlib.dates as mdates \n",
        "import datetime\n",
        "import matplotlib.ticker as tck\n",
        "\n",
        "fig, axis = plt.subplots(figsize = (10, 5))\n",
        "plt.xticks(rotation=50)\n",
        "axis.xaxis.set_major_locator(mdates.MonthLocator())\n",
        "axis.xaxis.set_major_formatter(mdates.DateFormatter('%Y-%m-%d'))\n",
        "plt.plot(death_df.date, death_df.total_deaths)\n",
        "plt.xlim([datetime.date(2020, 1, 1), datetime.date(2021, 11, 23)])\n",
        "plt.title('Global coronavirus deaths over time')\n",
        "plt.xlabel('Date')\n",
        "plt.ylabel('Total deaths')\n",
        "plt.show()"
      ],
      "metadata": {
        "colab": {
          "base_uri": "https://localhost:8080/",
          "height": 390
        },
        "id": "2VHIchp3ohJw",
        "outputId": "084d9993-1cc7-46fd-a6ec-789d093dcbb4"
      },
      "execution_count": 4,
      "outputs": [
        {
          "output_type": "display_data",
          "data": {
            "image/png": "[encoded data removed]",
            "text/plain": [
              "<Figure size 720x360 with 1 Axes>"
            ]
          },
          "metadata": {
            "needs_background": "light"
          }
        }
      ]
    },
    {
      "cell_type": "markdown",
      "source": [
        "**Linear Regression model predicting the number of global coronavirus deaths**"
      ],
      "metadata": {
        "id": "cPSaHOICtGh9"
      }
    },
    {
      "cell_type": "markdown",
      "source": [
        "2. Use scikit-learn to train a Simple Linear Regression model predicting the number of global coronavirus deaths over the time period of when the first death occurred until the 23rd of Dec 2021. Fill all NaN values with 0. Plot the predictions of the model in a graph together with the true number of cases."
      ],
      "metadata": {
        "id": "UFVvQVG4CxlW"
      }
    },
    {
      "cell_type": "code",
      "source": [
        "from sklearn.linear_model import LinearRegression\n",
        "from sklearn.metrics import mean_squared_error"
      ],
      "metadata": {
        "id": "6yvyMqN7q9PQ"
      },
      "execution_count": 5,
      "outputs": []
    },
    {
      "cell_type": "code",
      "source": [
        "model = LinearRegression()\n",
        "X = death_df[['total_cases']]\n",
        "model.fit(X, death_df.total_deaths.values.reshape(-1, 1))\n",
        "preds = model.predict(X)"
      ],
      "metadata": {
        "id": "6scO84UKre3v"
      },
      "execution_count": 7,
      "outputs": []
    },
    {
      "cell_type": "code",
      "source": [
        "fig, axis = plt.subplots(figsize = (10, 5))\n",
        "plt.xticks(rotation=50)\n",
        "axis.xaxis.set_major_locator(mdates.MonthLocator())\n",
        "axis.xaxis.set_major_formatter(mdates.DateFormatter('%Y-%m-%d'))\n",
        "plt.plot(death_df.date, death_df.total_deaths)\n",
        "plt.plot(death_df.date, preds)\n",
        "plt.xlim([datetime.date(2020, 1, 1), datetime.date(2021, 11, 23)])\n",
        "plt.title('Global coronavirus deaths over time together with a Linear Regression prediction model')\n",
        "plt.xlabel('Date')\n",
        "plt.ylabel('Total deaths')\n",
        "plt.legend(['Original', 'Predicted'])\n",
        "plt.show()"
      ],
      "metadata": {
        "colab": {
          "base_uri": "https://localhost:8080/",
          "height": 390
        },
        "id": "kXcbC4EssTXk",
        "outputId": "62c18aff-f16a-4f07-e843-1f2860615673"
      },
      "execution_count": 8,
      "outputs": [
        {
          "output_type": "display_data",
          "data": {
            "image/png": "[encoded data removed]",
            "text/plain": [
              "<Figure size 720x360 with 1 Axes>"
            ]
          },
          "metadata": {
            "needs_background": "light"
          }
        }
      ]
    },
    {
      "cell_type": "markdown",
      "source": [
        "3. Print the mean squared error of your Linear Regression model (as compared to the real values in the model training data for the whole time period)."
      ],
      "metadata": {
        "id": "IrjDWRBGC5_p"
      }
    },
    {
      "cell_type": "code",
      "source": [
        "print(\"Mean Squared Error: \",mean_squared_error(death_df.total_deaths.values.reshape(-1, 1), preds))"
      ],
      "metadata": {
        "colab": {
          "base_uri": "https://localhost:8080/",
          "height": 0
        },
        "id": "e2gBrxXruMN0",
        "outputId": "a2ed4908-6aba-4cce-c80b-74611bdb589e"
      },
      "execution_count": 9,
      "outputs": [
        {
          "output_type": "stream",
          "name": "stdout",
          "text": [
            "Mean Squared Error:  16874865042.939367\n"
          ]
        }
      ]
    },
    {
      "cell_type": "markdown",
      "source": [
        "**South Korea Analysis**"
      ],
      "metadata": {
        "id": "NZl5kFa4Bv-m"
      }
    },
    {
      "cell_type": "markdown",
      "source": [
        "Train any Regression model of your choice on the number of COVID19 deaths in South Korea. "
      ],
      "metadata": {
        "id": "CQRugrLzC3XM"
      }
    },
    {
      "cell_type": "code",
      "source": [
        "csv_url = 'https://covid.ourworldindata.org/data/owid-covid-data.csv'\n",
        "\n",
        "death_df2 = pd.read_csv(csv_url)\n",
        "\n",
        "train = death_df2[(death_df2.date >= '2021-09-01') & (death_df2.date <= '2021-11-22') & (death_df2.location == 'South Korea')]\n",
        "test = death_df2[(death_df2.date > '2021-11-22') & (death_df2.date <= '2021-11-29') & (death_df2.location == 'South Korea')]\n",
        "\n",
        "train.fillna(0, inplace=True)\n",
        "test.fillna(0, inplace=True)\n",
        "\n",
        "print(train.head(), len(train))\n",
        "print(test, len(test))\n"
      ],
      "metadata": {
        "colab": {
          "base_uri": "https://localhost:8080/",
          "height": 0
        },
        "id": "OgDEhbzd5KQl",
        "outputId": "fce6aed8-1bd1-4d23-9057-c5279c5fd921"
      },
      "execution_count": 10,
      "outputs": [
        {
          "output_type": "stream",
          "name": "stderr",
          "text": [
            "/usr/local/lib/python3.7/dist-packages/pandas/core/frame.py:4327: SettingWithCopyWarning: \n",
            "A value is trying to be set on a copy of a slice from a DataFrame\n",
            "\n",
            "See the caveats in the documentation: https://pandas.pydata.org/pandas-docs/stable/user_guide/indexing.html#returning-a-view-versus-a-copy\n",
            "  downcast=downcast,\n"
          ]
        },
        {
          "output_type": "stream",
          "name": "stdout",
          "text": [
            "       iso_code  ... excess_mortality_cumulative_per_million\n",
            "127038      KOR  ...                                0.000000\n",
            "127039      KOR  ...                                0.000000\n",
            "127040      KOR  ...                                0.000000\n",
            "127041      KOR  ...                                0.000000\n",
            "127042      KOR  ...                               39.025296\n",
            "\n",
            "[5 rows x 67 columns] 83\n",
            "       iso_code  ... excess_mortality_cumulative_per_million\n",
            "127121      KOR  ...                                     0.0\n",
            "127122      KOR  ...                                     0.0\n",
            "127123      KOR  ...                                     0.0\n",
            "127124      KOR  ...                                     0.0\n",
            "127125      KOR  ...                                     0.0\n",
            "127126      KOR  ...                                     0.0\n",
            "127127      KOR  ...                                     0.0\n",
            "\n",
            "[7 rows x 67 columns] 7\n"
          ]
        }
      ]
    },
    {
      "cell_type": "code",
      "source": [
        "print(train.columns)"
      ],
      "metadata": {
        "colab": {
          "base_uri": "https://localhost:8080/",
          "height": 0
        },
        "id": "EEJc-DMX90Lv",
        "outputId": "a88e5fcf-3e41-4566-d243-7471c5ed57b0"
      },
      "execution_count": 11,
      "outputs": [
        {
          "output_type": "stream",
          "name": "stdout",
          "text": [
            "Index(['iso_code', 'continent', 'location', 'date', 'total_cases', 'new_cases',\n",
            "       'new_cases_smoothed', 'total_deaths', 'new_deaths',\n",
            "       'new_deaths_smoothed', 'total_cases_per_million',\n",
            "       'new_cases_per_million', 'new_cases_smoothed_per_million',\n",
            "       'total_deaths_per_million', 'new_deaths_per_million',\n",
            "       'new_deaths_smoothed_per_million', 'reproduction_rate', 'icu_patients',\n",
            "       'icu_patients_per_million', 'hosp_patients',\n",
            "       'hosp_patients_per_million', 'weekly_icu_admissions',\n",
            "       'weekly_icu_admissions_per_million', 'weekly_hosp_admissions',\n",
            "       'weekly_hosp_admissions_per_million', 'new_tests', 'total_tests',\n",
            "       'total_tests_per_thousand', 'new_tests_per_thousand',\n",
            "       'new_tests_smoothed', 'new_tests_smoothed_per_thousand',\n",
            "       'positive_rate', 'tests_per_case', 'tests_units', 'total_vaccinations',\n",
            "       'people_vaccinated', 'people_fully_vaccinated', 'total_boosters',\n",
            "       'new_vaccinations', 'new_vaccinations_smoothed',\n",
            "       'total_vaccinations_per_hundred', 'people_vaccinated_per_hundred',\n",
            "       'people_fully_vaccinated_per_hundred', 'total_boosters_per_hundred',\n",
            "       'new_vaccinations_smoothed_per_million',\n",
            "       'new_people_vaccinated_smoothed',\n",
            "       'new_people_vaccinated_smoothed_per_hundred', 'stringency_index',\n",
            "       'population', 'population_density', 'median_age', 'aged_65_older',\n",
            "       'aged_70_older', 'gdp_per_capita', 'extreme_poverty',\n",
            "       'cardiovasc_death_rate', 'diabetes_prevalence', 'female_smokers',\n",
            "       'male_smokers', 'handwashing_facilities', 'hospital_beds_per_thousand',\n",
            "       'life_expectancy', 'human_development_index',\n",
            "       'excess_mortality_cumulative_absolute', 'excess_mortality_cumulative',\n",
            "       'excess_mortality', 'excess_mortality_cumulative_per_million'],\n",
            "      dtype='object')\n"
          ]
        }
      ]
    },
    {
      "cell_type": "code",
      "source": [
        "train.info()"
      ],
      "metadata": {
        "colab": {
          "base_uri": "https://localhost:8080/",
          "height": 0
        },
        "id": "yND8XV-s-DkV",
        "outputId": "642ecf77-74f5-400e-f1c0-d5e29c868b21"
      },
      "execution_count": 12,
      "outputs": [
        {
          "output_type": "stream",
          "name": "stdout",
          "text": [
            "<class 'pandas.core.frame.DataFrame'>\n",
            "Int64Index: 83 entries, 127038 to 127120\n",
            "Data columns (total 67 columns):\n",
            " #   Column                                      Non-Null Count  Dtype  \n",
            "---  ------                                      --------------  -----  \n",
            " 0   iso_code                                    83 non-null     object \n",
            " 1   continent                                   83 non-null     object \n",
            " 2   location                                    83 non-null     object \n",
            " 3   date                                        83 non-null     object \n",
            " 4   total_cases                                 83 non-null     float64\n",
            " 5   new_cases                                   83 non-null     float64\n",
            " 6   new_cases_smoothed                          83 non-null     float64\n",
            " 7   total_deaths                                83 non-null     float64\n",
            " 8   new_deaths                                  83 non-null     float64\n",
            " 9   new_deaths_smoothed                         83 non-null     float64\n",
            " 10  total_cases_per_million                     83 non-null     float64\n",
            " 11  new_cases_per_million                       83 non-null     float64\n",
            " 12  new_cases_smoothed_per_million              83 non-null     float64\n",
            " 13  total_deaths_per_million                    83 non-null     float64\n",
            " 14  new_deaths_per_million                      83 non-null     float64\n",
            " 15  new_deaths_smoothed_per_million             83 non-null     float64\n",
            " 16  reproduction_rate                           83 non-null     float64\n",
            " 17  icu_patients                                83 non-null     float64\n",
            " 18  icu_patients_per_million                    83 non-null     float64\n",
            " 19  hosp_patients                               83 non-null     float64\n",
            " 20  hosp_patients_per_million                   83 non-null     float64\n",
            " 21  weekly_icu_admissions                       83 non-null     float64\n",
            " 22  weekly_icu_admissions_per_million           83 non-null     float64\n",
            " 23  weekly_hosp_admissions                      83 non-null     float64\n",
            " 24  weekly_hosp_admissions_per_million          83 non-null     float64\n",
            " 25  new_tests                                   83 non-null     float64\n",
            " 26  total_tests                                 83 non-null     float64\n",
            " 27  total_tests_per_thousand                    83 non-null     float64\n",
            " 28  new_tests_per_thousand                      83 non-null     float64\n",
            " 29  new_tests_smoothed                          83 non-null     float64\n",
            " 30  new_tests_smoothed_per_thousand             83 non-null     float64\n",
            " 31  positive_rate                               83 non-null     float64\n",
            " 32  tests_per_case                              83 non-null     float64\n",
            " 33  tests_units                                 83 non-null     object \n",
            " 34  total_vaccinations                          83 non-null     float64\n",
            " 35  people_vaccinated                           83 non-null     float64\n",
            " 36  people_fully_vaccinated                     83 non-null     float64\n",
            " 37  total_boosters                              83 non-null     float64\n",
            " 38  new_vaccinations                            83 non-null     float64\n",
            " 39  new_vaccinations_smoothed                   83 non-null     float64\n",
            " 40  total_vaccinations_per_hundred              83 non-null     float64\n",
            " 41  people_vaccinated_per_hundred               83 non-null     float64\n",
            " 42  people_fully_vaccinated_per_hundred         83 non-null     float64\n",
            " 43  total_boosters_per_hundred                  83 non-null     float64\n",
            " 44  new_vaccinations_smoothed_per_million       83 non-null     float64\n",
            " 45  new_people_vaccinated_smoothed              83 non-null     float64\n",
            " 46  new_people_vaccinated_smoothed_per_hundred  83 non-null     float64\n",
            " 47  stringency_index                            83 non-null     float64\n",
            " 48  population                                  83 non-null     float64\n",
            " 49  population_density                          83 non-null     float64\n",
            " 50  median_age                                  83 non-null     float64\n",
            " 51  aged_65_older                               83 non-null     float64\n",
            " 52  aged_70_older                               83 non-null     float64\n",
            " 53  gdp_per_capita                              83 non-null     float64\n",
            " 54  extreme_poverty                             83 non-null     float64\n",
            " 55  cardiovasc_death_rate                       83 non-null     float64\n",
            " 56  diabetes_prevalence                         83 non-null     float64\n",
            " 57  female_smokers                              83 non-null     float64\n",
            " 58  male_smokers                                83 non-null     float64\n",
            " 59  handwashing_facilities                      83 non-null     float64\n",
            " 60  hospital_beds_per_thousand                  83 non-null     float64\n",
            " 61  life_expectancy                             83 non-null     float64\n",
            " 62  human_development_index                     83 non-null     float64\n",
            " 63  excess_mortality_cumulative_absolute        83 non-null     float64\n",
            " 64  excess_mortality_cumulative                 83 non-null     float64\n",
            " 65  excess_mortality                            83 non-null     float64\n",
            " 66  excess_mortality_cumulative_per_million     83 non-null     float64\n",
            "dtypes: float64(62), object(5)\n",
            "memory usage: 44.1+ KB\n"
          ]
        }
      ]
    },
    {
      "cell_type": "code",
      "source": [
        "X = train[['total_cases', 'new_cases',\n",
        "       'new_cases_smoothed', 'new_deaths',\n",
        "       'new_deaths_smoothed', 'total_cases_per_million',\n",
        "       'new_cases_per_million', 'new_cases_smoothed_per_million',\n",
        "       'new_deaths_per_million',\n",
        "       'new_deaths_smoothed_per_million', 'new_tests', 'total_tests',\n",
        "       'new_tests_per_thousand',\n",
        "       'new_tests_smoothed', 'new_tests_smoothed_per_thousand',\n",
        "       'positive_rate', 'tests_per_case',\n",
        "       'people_vaccinated', 'people_fully_vaccinated', 'total_boosters',\n",
        "       'new_vaccinations', 'new_vaccinations_smoothed',\n",
        "       'people_vaccinated_per_hundred',\n",
        "       'people_fully_vaccinated_per_hundred', 'total_boosters_per_hundred',\n",
        "       'new_vaccinations_smoothed_per_million',\n",
        "       'new_people_vaccinated_smoothed',\n",
        "       'new_people_vaccinated_smoothed_per_hundred','population', 'population_density', 'median_age', 'aged_65_older',\n",
        "       'aged_70_older', 'gdp_per_capita', 'extreme_poverty',\n",
        "       'cardiovasc_death_rate', 'diabetes_prevalence','handwashing_facilities', 'hospital_beds_per_thousand',\n",
        "       'life_expectancy']]\n",
        "Xtest = test[['total_cases', 'new_cases',\n",
        "       'new_cases_smoothed', 'new_deaths',\n",
        "       'new_deaths_smoothed', 'total_cases_per_million',\n",
        "       'new_cases_per_million', 'new_cases_smoothed_per_million', \n",
        "       'new_deaths_per_million',\n",
        "       'new_deaths_smoothed_per_million', 'new_tests', 'total_tests',\n",
        "       'new_tests_per_thousand',\n",
        "       'new_tests_smoothed', 'new_tests_smoothed_per_thousand',\n",
        "       'positive_rate', 'tests_per_case',\n",
        "       'people_vaccinated', 'people_fully_vaccinated', 'total_boosters',\n",
        "       'new_vaccinations', 'new_vaccinations_smoothed',\n",
        "       'people_vaccinated_per_hundred',\n",
        "       'people_fully_vaccinated_per_hundred', 'total_boosters_per_hundred',\n",
        "       'new_vaccinations_smoothed_per_million',\n",
        "       'new_people_vaccinated_smoothed',\n",
        "       'new_people_vaccinated_smoothed_per_hundred','population', 'population_density', 'median_age', 'aged_65_older',\n",
        "       'aged_70_older', 'gdp_per_capita', 'extreme_poverty',\n",
        "       'cardiovasc_death_rate', 'diabetes_prevalence','handwashing_facilities', 'hospital_beds_per_thousand',\n",
        "       'life_expectancy']]\n",
        "\n",
        "\n",
        "model.fit(X, train.total_deaths.values.reshape(-1, 1))\n",
        "pred = model.predict(Xtest)\n",
        "\n",
        "print(\"Mean Squared Error: \",mean_squared_error(test.total_deaths.values.reshape(-1, 1), pred))"
      ],
      "metadata": {
        "colab": {
          "base_uri": "https://localhost:8080/",
          "height": 0
        },
        "id": "VEjMBl4v65_q",
        "outputId": "cebd1503-2d14-4fdf-9a18-b2ec0d971931"
      },
      "execution_count": 13,
      "outputs": [
        {
          "output_type": "stream",
          "name": "stdout",
          "text": [
            "Mean Squared Error:  404.0039721806582\n"
          ]
        }
      ]
    },
    {
      "cell_type": "markdown",
      "source": [
        "4.1 Plot the predictions together with the actual recorded deaths for the dates November 23rd to November 29th 2021, see example plot below."
      ],
      "metadata": {
        "id": "X_STo4TkDUqE"
      }
    },
    {
      "cell_type": "code",
      "source": [
        "plt.figure(figsize = (10, 5))\n",
        "plt.plot(test.date, test.total_deaths)\n",
        "plt.plot(test.date, pred)\n",
        "plt.legend(['Origial', 'Predicted'])\n",
        "plt.title('Predicted COVID19 deaths in South Korea for November 23rd to November 29th together with the real values.')\n",
        "plt.xlabel('Date')\n",
        "plt.ylabel('Total deaths')\n",
        "plt.show()"
      ],
      "metadata": {
        "colab": {
          "base_uri": "https://localhost:8080/",
          "height": 349
        },
        "id": "I6xeGkwuAOQw",
        "outputId": "fdb12a11-2d76-42c5-ae8f-74d1307d13df"
      },
      "execution_count": 14,
      "outputs": [
        {
          "output_type": "display_data",
          "data": {
            "image/png": "[encoded data removed]",
            "text/plain": [
              "<Figure size 720x360 with 1 Axes>"
            ]
          },
          "metadata": {
            "needs_background": "light"
          }
        }
      ]
    },
    {
      "cell_type": "markdown",
      "source": [
        "4.2 Print the Mean Squared Error (MSE) of your test set predictions. Full credit is given if your model has a lower MSE than 500."
      ],
      "metadata": {
        "id": "04r7GmLdDX18"
      }
    },
    {
      "cell_type": "code",
      "source": [
        "print(\"Mean Squared Error: \",mean_squared_error(test.total_deaths.values.reshape(-1, 1), pred))"
      ],
      "metadata": {
        "colab": {
          "base_uri": "https://localhost:8080/",
          "height": 0
        },
        "id": "7ohXhtBBDItC",
        "outputId": "8b335868-12c9-4048-ce8b-c06a849ecc86"
      },
      "execution_count": 15,
      "outputs": [
        {
          "output_type": "stream",
          "name": "stdout",
          "text": [
            "Mean Squared Error:  404.0039721806582\n"
          ]
        }
      ]
    }
  ]
}