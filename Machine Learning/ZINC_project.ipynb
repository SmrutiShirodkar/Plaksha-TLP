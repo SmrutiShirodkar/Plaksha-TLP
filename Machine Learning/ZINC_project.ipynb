{
  "cells": [
    {
      "cell_type": "code",
      "execution_count": 1,
      "metadata": {
        "colab": {
          "base_uri": "https://localhost:8080/"
        },
        "id": "siKmaqAz5AtY",
        "outputId": "242b0e8d-58ad-45db-d5c8-5b4514922a94"
      },
      "outputs": [
        {
          "output_type": "stream",
          "name": "stdout",
          "text": [
            "Requirement already satisfied: smilite in /usr/local/lib/python3.7/dist-packages (2.3.0)\n",
            "Requirement already satisfied: PyPrind>=2.3.1 in /usr/local/lib/python3.7/dist-packages (from smilite) (2.11.3)\n"
          ]
        }
      ],
      "source": [
        "!pip install rdkit-pypi -qqq\n",
        "!pip install smilite"
      ]
    },
    {
      "cell_type": "code",
      "execution_count": 10,
      "metadata": {
        "id": "apO81RD0rt2b"
      },
      "outputs": [],
      "source": [
        "import pandas as pd\n",
        "import numpy as np\n",
        "import smilite\n",
        "from rdkit import Chem\n",
        "from rdkit.Chem import Draw, Descriptors\n",
        "from matplotlib import pyplot as plt\n",
        "import tensorflow as tf\n",
        "import tensorflow_probability as tfp\n",
        "from tensorflow.keras import layers\n",
        "from tensorflow.keras.callbacks import ReduceLROnPlateau\n",
        "from tensorflow.keras import backend as K\n",
        "\n",
        "from sklearn.model_selection import train_test_split\n",
        "\n",
        "tf.random.set_seed(42)"
      ]
    },
    {
      "cell_type": "code",
      "execution_count": 11,
      "metadata": {
        "colab": {
          "base_uri": "https://localhost:8080/"
        },
        "id": "Rhp3hSMJ5IKv",
        "outputId": "790f6482-901d-4485-d8b1-10583b1e9e5d"
      },
      "outputs": [
        {
          "output_type": "stream",
          "name": "stdout",
          "text": [
            "Drive already mounted at /content/drive; to attempt to forcibly remount, call drive.mount(\"/content/drive\", force_remount=True).\n"
          ]
        }
      ],
      "source": [
        "from google.colab import drive\n",
        "drive.mount('/content/drive')\n",
        "\n",
        "#loading files\n",
        "df = pd.read_csv('/content/drive/My Drive/ML2_final/zinc_data.csv')\n"
      ]
    },
    {
      "cell_type": "code",
      "execution_count": 12,
      "metadata": {
        "colab": {
          "base_uri": "https://localhost:8080/"
        },
        "id": "vs73w6kc8dlK",
        "outputId": "c68fc712-d117-4f15-f129-fdbf63a47957"
      },
      "outputs": [
        {
          "output_type": "stream",
          "name": "stdout",
          "text": [
            "(427493, 2)\n"
          ]
        }
      ],
      "source": [
        "# df=df.iloc[:50000,:]\n",
        "smiles = df['smiles'].tolist()\n",
        "for i in range(len(smiles)):\n",
        "  smiles[i] = smilite.simplify_smile(smiles[i])\n",
        "\n",
        "\n",
        "print(df.shape)\n",
        "# print(smiles)\n",
        "df['simple_smiles']=smiles"
      ]
    },
    {
      "cell_type": "code",
      "execution_count": 13,
      "metadata": {
        "colab": {
          "base_uri": "https://localhost:8080/",
          "height": 206
        },
        "id": "s9kotw0clnAI",
        "outputId": "14c8c716-fef9-41a3-f822-e2ef141dc6d6"
      },
      "outputs": [
        {
          "output_type": "execute_result",
          "data": {
            "text/html": [
              "\n",
              "  <div id=\"df-1d9d211f-fa38-45e4-999b-da347871a0bf\">\n",
              "    <div class=\"colab-df-container\">\n",
              "      <div>\n",
              "<style scoped>\n",
              "    .dataframe tbody tr th:only-of-type {\n",
              "        vertical-align: middle;\n",
              "    }\n",
              "\n",
              "    .dataframe tbody tr th {\n",
              "        vertical-align: top;\n",
              "    }\n",
              "\n",
              "    .dataframe thead th {\n",
              "        text-align: right;\n",
              "    }\n",
              "</style>\n",
              "<table border=\"1\" class=\"dataframe\">\n",
              "  <thead>\n",
              "    <tr style=\"text-align: right;\">\n",
              "      <th></th>\n",
              "      <th>zinc_id</th>\n",
              "      <th>smiles</th>\n",
              "      <th>simple_smiles</th>\n",
              "    </tr>\n",
              "  </thead>\n",
              "  <tbody>\n",
              "    <tr>\n",
              "      <th>0</th>\n",
              "      <td>ZINC000000008151</td>\n",
              "      <td>C[C@H]1[C@@H](O)[C@H](CO)O[C@@H](O)[C@@H]1N</td>\n",
              "      <td>CC1C(O)C(CO)OC(O)C1N</td>\n",
              "    </tr>\n",
              "    <tr>\n",
              "      <th>1</th>\n",
              "      <td>ZINC000000008153</td>\n",
              "      <td>CC[C@@H]1[C@@H](N)[C@@H](O)O[C@@H](CO)[C@@H]1O</td>\n",
              "      <td>CCC1C(N)C(O)OC(CO)C1O</td>\n",
              "    </tr>\n",
              "    <tr>\n",
              "      <th>2</th>\n",
              "      <td>ZINC000000008155</td>\n",
              "      <td>CC1(C)[C@@H](N)[C@@H](O)O[C@@H](CO)[C@@H]1O</td>\n",
              "      <td>CC1(C)C(N)C(O)OC(CO)C1O</td>\n",
              "    </tr>\n",
              "    <tr>\n",
              "      <th>3</th>\n",
              "      <td>ZINC000000018276</td>\n",
              "      <td>CS[C@@H]1CN[C@@H](CO)[C@H](O)[C@H]1O</td>\n",
              "      <td>CSC1CNC(CO)C(O)C1O</td>\n",
              "    </tr>\n",
              "    <tr>\n",
              "      <th>4</th>\n",
              "      <td>ZINC000000018279</td>\n",
              "      <td>CS[C@@H]1[C@@H](O)CN[C@@H](CO)[C@@H]1O</td>\n",
              "      <td>CSC1C(O)CNC(CO)C1O</td>\n",
              "    </tr>\n",
              "  </tbody>\n",
              "</table>\n",
              "</div>\n",
              "      <button class=\"colab-df-convert\" onclick=\"convertToInteractive('df-1d9d211f-fa38-45e4-999b-da347871a0bf')\"\n",
              "              title=\"Convert this dataframe to an interactive table.\"\n",
              "              style=\"display:none;\">\n",
              "        \n",
              "  <svg xmlns=\"http://www.w3.org/2000/svg\" height=\"24px\"viewBox=\"0 0 24 24\"\n",
              "       width=\"24px\">\n",
              "    <path d=\"M0 0h24v24H0V0z\" fill=\"none\"/>\n",
              "    <path d=\"M18.56 5.44l.94 2.06.94-2.06 2.06-.94-2.06-.94-.94-2.06-.94 2.06-2.06.94zm-11 1L8.5 8.5l.94-2.06 2.06-.94-2.06-.94L8.5 2.5l-.94 2.06-2.06.94zm10 10l.94 2.06.94-2.06 2.06-.94-2.06-.94-.94-2.06-.94 2.06-2.06.94z\"/><path d=\"M17.41 7.96l-1.37-1.37c-.4-.4-.92-.59-1.43-.59-.52 0-1.04.2-1.43.59L10.3 9.45l-7.72 7.72c-.78.78-.78 2.05 0 2.83L4 21.41c.39.39.9.59 1.41.59.51 0 1.02-.2 1.41-.59l7.78-7.78 2.81-2.81c.8-.78.8-2.07 0-2.86zM5.41 20L4 18.59l7.72-7.72 1.47 1.35L5.41 20z\"/>\n",
              "  </svg>\n",
              "      </button>\n",
              "      \n",
              "  <style>\n",
              "    .colab-df-container {\n",
              "      display:flex;\n",
              "      flex-wrap:wrap;\n",
              "      gap: 12px;\n",
              "    }\n",
              "\n",
              "    .colab-df-convert {\n",
              "      background-color: #E8F0FE;\n",
              "      border: none;\n",
              "      border-radius: 50%;\n",
              "      cursor: pointer;\n",
              "      display: none;\n",
              "      fill: #1967D2;\n",
              "      height: 32px;\n",
              "      padding: 0 0 0 0;\n",
              "      width: 32px;\n",
              "    }\n",
              "\n",
              "    .colab-df-convert:hover {\n",
              "      background-color: #E2EBFA;\n",
              "      box-shadow: 0px 1px 2px rgba(60, 64, 67, 0.3), 0px 1px 3px 1px rgba(60, 64, 67, 0.15);\n",
              "      fill: #174EA6;\n",
              "    }\n",
              "\n",
              "    [theme=dark] .colab-df-convert {\n",
              "      background-color: #3B4455;\n",
              "      fill: #D2E3FC;\n",
              "    }\n",
              "\n",
              "    [theme=dark] .colab-df-convert:hover {\n",
              "      background-color: #434B5C;\n",
              "      box-shadow: 0px 1px 3px 1px rgba(0, 0, 0, 0.15);\n",
              "      filter: drop-shadow(0px 1px 2px rgba(0, 0, 0, 0.3));\n",
              "      fill: #FFFFFF;\n",
              "    }\n",
              "  </style>\n",
              "\n",
              "      <script>\n",
              "        const buttonEl =\n",
              "          document.querySelector('#df-1d9d211f-fa38-45e4-999b-da347871a0bf button.colab-df-convert');\n",
              "        buttonEl.style.display =\n",
              "          google.colab.kernel.accessAllowed ? 'block' : 'none';\n",
              "\n",
              "        async function convertToInteractive(key) {\n",
              "          const element = document.querySelector('#df-1d9d211f-fa38-45e4-999b-da347871a0bf');\n",
              "          const dataTable =\n",
              "            await google.colab.kernel.invokeFunction('convertToInteractive',\n",
              "                                                     [key], {});\n",
              "          if (!dataTable) return;\n",
              "\n",
              "          const docLinkHtml = 'Like what you see? Visit the ' +\n",
              "            '<a target=\"_blank\" href=https://colab.research.google.com/notebooks/data_table.ipynb>data table notebook</a>'\n",
              "            + ' to learn more about interactive tables.';\n",
              "          element.innerHTML = '';\n",
              "          dataTable['output_type'] = 'display_data';\n",
              "          await google.colab.output.renderOutput(dataTable, element);\n",
              "          const docLink = document.createElement('div');\n",
              "          docLink.innerHTML = docLinkHtml;\n",
              "          element.appendChild(docLink);\n",
              "        }\n",
              "      </script>\n",
              "    </div>\n",
              "  </div>\n",
              "  "
            ],
            "text/plain": [
              "            zinc_id  ...            simple_smiles\n",
              "0  ZINC000000008151  ...     CC1C(O)C(CO)OC(O)C1N\n",
              "1  ZINC000000008153  ...    CCC1C(N)C(O)OC(CO)C1O\n",
              "2  ZINC000000008155  ...  CC1(C)C(N)C(O)OC(CO)C1O\n",
              "3  ZINC000000018276  ...       CSC1CNC(CO)C(O)C1O\n",
              "4  ZINC000000018279  ...       CSC1C(O)CNC(CO)C1O\n",
              "\n",
              "[5 rows x 3 columns]"
            ]
          },
          "metadata": {},
          "execution_count": 13
        }
      ],
      "source": [
        "df.head()"
      ]
    },
    {
      "cell_type": "code",
      "execution_count": 14,
      "metadata": {
        "colab": {
          "base_uri": "https://localhost:8080/"
        },
        "id": "S-aTt9vRhc0O",
        "outputId": "50d1b38a-965f-4288-9a93-e01b5fd54471"
      },
      "outputs": [
        {
          "output_type": "stream",
          "name": "stdout",
          "text": [
            "Shape of x_train (341994,)\n",
            "Shape of x_val (85499,)\n"
          ]
        }
      ],
      "source": [
        "#split train and validation data\n",
        "x_train, x_val = train_test_split(df['simple_smiles'], test_size = 0.2, random_state = 42)\n",
        "\n",
        "print('x_train:', x_train.shape)\n",
        "print('x_val:', x_val.shape)"
      ]
    },
    {
      "cell_type": "code",
      "execution_count": 15,
      "metadata": {
        "colab": {
          "base_uri": "https://localhost:8080/"
        },
        "id": "QICmQiBB7Q-J",
        "outputId": "a4e2e501-e273-4f95-fae1-2f9d168579fb"
      },
      "outputs": [
        {
          "output_type": "stream",
          "name": "stdout",
          "text": [
            "Character to integer dictionary: \n",
            " {'I': 0, '(': 1, 'C': 2, 'R': 3, 'F': 4, '2': 5, '7': 6, ')': 7, '8': 8, '1': 9, 'S': 10, 'O': 11, '!': 12, '4': 13, 'E': 14, '6': 15, 'L': 16, '5': 17, '/': 18, 'P': 19, '3': 20, '=': 21, 'B': 22, 'N': 23, '\\\\': 24}\n",
            "\n",
            "\n",
            "Integer to character dictionary: \n",
            " {0: 'I', 1: '(', 2: 'C', 3: 'R', 4: 'F', 5: '2', 6: '7', 7: ')', 8: '8', 9: '1', 10: 'S', 11: 'O', 12: '!', 13: '4', 14: 'E', 15: '6', 16: 'L', 17: '5', 18: '/', 19: 'P', 20: '3', 21: '=', 22: 'B', 23: 'N', 24: '\\\\'}\n"
          ]
        }
      ],
      "source": [
        "# Unique character set with start and end tokens\n",
        "char_set = set(''.join(list(df.simple_smiles)) + '!E')\n",
        "\n",
        "# character to int mapping\n",
        "char_to_int = dict((c, i) for i, c in enumerate(char_set))\n",
        "\n",
        "# int to character mapping\n",
        "int_to_char = dict((i, c) for i, c in enumerate(char_set))\n",
        "\n",
        "# maximum length of sequence\n",
        "maxlen = max([len(smile) for smile in df.simple_smiles]) + 2  \n",
        "\n",
        "print(f'Character to integer dictionary: \\n {char_to_int}')\n",
        "print('\\n')\n",
        "print(f'Integer to character dictionary: \\n {int_to_char}')"
      ]
    },
    {
      "cell_type": "code",
      "execution_count": 16,
      "metadata": {
        "colab": {
          "base_uri": "https://localhost:8080/"
        },
        "id": "P-fhto5qnsSv",
        "outputId": "05562c98-9d87-4c27-fcc5-d96f141d2a86"
      },
      "outputs": [
        {
          "output_type": "stream",
          "name": "stdout",
          "text": [
            "Character set: {'I', '(', 'C', 'R', 'F', '2', '7', ')', '8', '1', 'S', 'O', '!', '4', 'E', '6', 'L', '5', '/', 'P', '3', '=', 'B', 'N', '\\\\'}\n",
            "Number of characters: 25\t Length of sequence: 36\n"
          ]
        }
      ],
      "source": [
        "print(f'Character set: {str(char_set)}')\n",
        "print(f'Number of characters: {len(char_set)}\\t Length of sequence: {maxlen}')"
      ]
    },
    {
      "cell_type": "code",
      "execution_count": 17,
      "metadata": {
        "id": "c9eYzhUAPkLi"
      },
      "outputs": [],
      "source": [
        "# One hot encoding\n",
        "def one_hot_encoding(smiles):\n",
        "  one_hot =  np.zeros((smiles.shape[0], maxlen, len(char_set)), dtype = np.int8)\n",
        "  for index, smile in enumerate(smiles):\n",
        "    one_hot[index, 0, char_to_int[\"!\"]] = 1\n",
        "    for row, char in enumerate(smile):\n",
        "        one_hot[index, row + 1, char_to_int[char]] = 1\n",
        "    one_hot[index, len(smile) + 1:, char_to_int['E']] = 1\n",
        "  return one_hot[:, 0:-1, :], one_hot[:, 1:, :]"
      ]
    },
    {
      "cell_type": "code",
      "execution_count": 18,
      "metadata": {
        "colab": {
          "base_uri": "https://localhost:8080/",
          "height": 312
        },
        "id": "OaoS9g1n7An5",
        "outputId": "28eb0843-c5c6-41d7-e462-0a52054a5751"
      },
      "outputs": [
        {
          "output_type": "stream",
          "name": "stdout",
          "text": [
            "CC1NC(=O)CC(N)N1\n"
          ]
        },
        {
          "output_type": "execute_result",
          "data": {
            "text/plain": [
              "<matplotlib.image.AxesImage at 0x7f8a4fbff9d0>"
            ]
          },
          "metadata": {},
          "execution_count": 18
        },
        {
          "output_type": "display_data",
          "data": {
            "image/png": "[encoded data removed]",
            "text/plain": [
              "<Figure size 403.2x288 with 1 Axes>"
            ]
          },
          "metadata": {
            "needs_background": "light"
          }
        }
      ],
      "source": [
        "# One hot encoded train and validation data\n",
        "X_train, Y_train = one_hot_encoding(x_train.values)\n",
        "X_val, Y_val = one_hot_encoding(x_val.values)\n",
        "\n",
        "print(x_train.iloc[0])\n",
        "plt.matshow(X_train[0].T)"
      ]
    },
    {
      "cell_type": "code",
      "execution_count": 19,
      "metadata": {
        "colab": {
          "base_uri": "https://localhost:8080/",
          "height": 36
        },
        "id": "nS4WzYZxWrFQ",
        "outputId": "db20ff6f-a50a-4f00-9450-7ef5464b5e0c"
      },
      "outputs": [
        {
          "output_type": "execute_result",
          "data": {
            "application/vnd.google.colaboratory.intrinsic+json": {
              "type": "string"
            },
            "text/plain": [
              "'!CC1NC(=O)CC(N)N1EEEEEEEEEEEEEEEEEE'"
            ]
          },
          "metadata": {},
          "execution_count": 19
        }
      ],
      "source": [
        "# print the first smile string sequence with start and end tokens\n",
        "\"\".join([int_to_char[idx] for idx in np.argmax(X_train[0, :, :], axis = 1)])"
      ]
    },
    {
      "cell_type": "code",
      "execution_count": 20,
      "metadata": {
        "id": "Eoc1KTPcidLS"
      },
      "outputs": [],
      "source": [
        "input_shape = X_train.shape[1:]\n",
        "output_dim = Y_train.shape[-1]\n",
        "latent_dim = 64\n",
        "lstm_dim = 64"
      ]
    },
    {
      "cell_type": "code",
      "execution_count": 21,
      "metadata": {
        "id": "7vhjWP6fip-g"
      },
      "outputs": [],
      "source": [
        "# input layer of the encoder\n",
        "from keras.layers import Dense, Concatenate\n",
        "encoder_inputs = layers.Input(shape = input_shape)\n",
        "outputs, state_h, state_c = layers.LSTM(lstm_dim, return_state = True, unroll = False)(encoder_inputs)\n",
        "concat_states = Concatenate(axis = -1)([state_h, state_c])\n",
        "latent_outputs = Dense(latent_dim, activation = \"relu\")(concat_states)"
      ]
    },
    {
      "cell_type": "code",
      "execution_count": 22,
      "metadata": {
        "colab": {
          "base_uri": "https://localhost:8080/"
        },
        "id": "qCx2lS_pirct",
        "outputId": "da77fe58-5940-4891-bcda-f53f39decc78"
      },
      "outputs": [
        {
          "output_type": "stream",
          "name": "stdout",
          "text": [
            "Model: \"model\"\n",
            "__________________________________________________________________________________________________\n",
            " Layer (type)                   Output Shape         Param #     Connected to                     \n",
            "==================================================================================================\n",
            " input_1 (InputLayer)           [(None, 35, 25)]     0           []                               \n",
            "                                                                                                  \n",
            " lstm (LSTM)                    [(None, 64),         23040       ['input_1[0][0]']                \n",
            "                                 (None, 64),                                                      \n",
            "                                 (None, 64)]                                                      \n",
            "                                                                                                  \n",
            " concatenate (Concatenate)      (None, 128)          0           ['lstm[0][1]',                   \n",
            "                                                                  'lstm[0][2]']                   \n",
            "                                                                                                  \n",
            " dense (Dense)                  (None, 64)           8256        ['concatenate[0][0]']            \n",
            "                                                                                                  \n",
            " input_2 (InputLayer)           [(None, 35, 25)]     0           []                               \n",
            "                                                                                                  \n",
            " dense_1 (Dense)                (None, 64)           4160        ['dense[0][0]']                  \n",
            "                                                                                                  \n",
            " dense_2 (Dense)                (None, 64)           4160        ['dense[0][0]']                  \n",
            "                                                                                                  \n",
            " lstm_1 (LSTM)                  (None, 35, 64)       23040       ['input_2[0][0]',                \n",
            "                                                                  'dense_1[0][0]',                \n",
            "                                                                  'dense_2[0][0]']                \n",
            "                                                                                                  \n",
            " dense_3 (Dense)                (None, 35, 25)       1625        ['lstm_1[0][0]']                 \n",
            "                                                                                                  \n",
            "==================================================================================================\n",
            "Total params: 64,281\n",
            "Trainable params: 64,281\n",
            "Non-trainable params: 0\n",
            "__________________________________________________________________________________________________\n"
          ]
        }
      ],
      "source": [
        "# decode the cell and hidden states of the encoder\n",
        "h_decoded =  layers.Dense(lstm_dim, activation = \"relu\")(latent_outputs)\n",
        "c_decoded =  layers.Dense(lstm_dim, activation = \"relu\")(latent_outputs)\n",
        "\n",
        "decoded_states = [h_decoded, c_decoded]\n",
        "decoder_inputs = layers.Input(shape = input_shape)\n",
        "\n",
        "decoder_lstm = layers.LSTM(lstm_dim, return_sequences = True, unroll = False)\n",
        "decoder_outputs = decoder_lstm(decoder_inputs, initial_state = decoded_states)\n",
        "decoder_outputs = layers.Dense(output_dim, activation = 'softmax')(decoder_outputs)\n",
        "\n",
        "# define the model\n",
        "model = tf.keras.Model([encoder_inputs, decoder_inputs], decoder_outputs)\n",
        "model.summary()"
      ]
    },
    {
      "cell_type": "code",
      "execution_count": 68,
      "metadata": {
        "colab": {
          "base_uri": "https://localhost:8080/"
        },
        "id": "f5tjZYDbjGcv",
        "outputId": "2e2bfff2-e61f-45ab-8afa-648882918dad"
      },
      "outputs": [
        {
          "output_type": "stream",
          "name": "stdout",
          "text": [
            "Epoch 1/10\n",
            "663/663 [==============================] - 11s 11ms/step - loss: 0.0126 - val_loss: 0.0097\n",
            "Epoch 2/10\n",
            "663/663 [==============================] - 7s 10ms/step - loss: 0.0102 - val_loss: 0.0102\n",
            "Epoch 3/10\n",
            "663/663 [==============================] - 7s 10ms/step - loss: 0.0091 - val_loss: 0.0092\n",
            "Epoch 4/10\n",
            "663/663 [==============================] - 7s 10ms/step - loss: 0.0136 - val_loss: 0.0257\n",
            "Epoch 5/10\n",
            "663/663 [==============================] - 7s 10ms/step - loss: 0.0098 - val_loss: 0.0092\n",
            "Epoch 6/10\n",
            "663/663 [==============================] - 7s 10ms/step - loss: 0.0088 - val_loss: 0.0089\n",
            "Epoch 7/10\n",
            "663/663 [==============================] - 7s 10ms/step - loss: 0.0146 - val_loss: 0.0106\n",
            "Epoch 8/10\n",
            "663/663 [==============================] - 7s 10ms/step - loss: 0.0084 - val_loss: 0.0088\n",
            "Epoch 9/10\n",
            "663/663 [==============================] - 7s 10ms/step - loss: 0.0088 - val_loss: 0.0106\n",
            "Epoch 10/10\n",
            "663/663 [==============================] - 7s 10ms/step - loss: 0.0212 - val_loss: 0.0935\n"
          ]
        },
        {
          "output_type": "execute_result",
          "data": {
            "text/plain": [
              "<keras.callbacks.History at 0x7f8a4e099690>"
            ]
          },
          "metadata": {},
          "execution_count": 68
        }
      ],
      "source": [
        "# compile and fit the model\n",
        "opt = tf.keras.optimizers.Adam(learning_rate = 0.001) \n",
        "model.compile(optimizer = opt, loss = 'categorical_crossentropy')\n",
        "model.fit([X_train, X_train], Y_train, epochs = 10, batch_size = 516, shuffle = True, validation_data = ([X_val, X_val], Y_val))"
      ]
    },
    {
      "cell_type": "code",
      "execution_count": 69,
      "metadata": {
        "id": "bGFUUXLPjhef"
      },
      "outputs": [],
      "source": [
        "for i in range(100):\n",
        "  idxs_pred = np.argmax(model.predict([X_val[i:i + 1], X_val[i:i + 1]]), axis = 2)\n",
        "  pred_smile = \"\".join([int_to_char[m] for m in idxs_pred[0]])[:-1]"
      ]
    },
    {
      "cell_type": "code",
      "execution_count": 70,
      "metadata": {
        "colab": {
          "base_uri": "https://localhost:8080/"
        },
        "id": "OiMzQXGlkQPJ",
        "outputId": "3d6def3a-2080-43e1-af39-233c170c5b12"
      },
      "outputs": [
        {
          "output_type": "stream",
          "name": "stdout",
          "text": [
            "WARNING:tensorflow:Compiled the loaded model, but the compiled metrics have yet to be built. `model.compile_metrics` will be empty until you train or evaluate the model.\n"
          ]
        }
      ],
      "source": [
        "from keras.layers import Dense, Concatenate\n",
        "neck = Dense(latent_dim, activation=\"relu\")\n",
        "states = Concatenate(axis=-1)([state_h, state_c])\n",
        "neck_outputs = neck(states)\n",
        "smiles_to_latent_space = tf.keras.Model(encoder_inputs, neck_outputs)\n",
        "\n",
        "smiles_to_latent_space.save(\"smile_latent.h5\") "
      ]
    },
    {
      "cell_type": "code",
      "execution_count": 71,
      "metadata": {
        "id": "EmVvcTT6kSBz"
      },
      "outputs": [],
      "source": [
        "# convert validation data into latent space\n",
        "val_latent = smiles_to_latent_space.predict(X_val)"
      ]
    },
    {
      "cell_type": "code",
      "execution_count": 72,
      "metadata": {
        "colab": {
          "base_uri": "https://localhost:8080/"
        },
        "id": "WScDv5JPkTjE",
        "outputId": "856c322b-f857-42b8-d8de-44dc137ba941"
      },
      "outputs": [
        {
          "output_type": "stream",
          "name": "stdout",
          "text": [
            "WARNING:tensorflow:Compiled the loaded model, but the compiled metrics have yet to be built. `model.compile_metrics` will be empty until you train or evaluate the model.\n"
          ]
        }
      ],
      "source": [
        "latent_input = layers.Input(shape = (latent_dim,))\n",
        "\n",
        "# reuse earlier dense layers\n",
        "state_h_decoded =  model.get_layer('dense_1')(latent_input)\n",
        "state_c_decoded =  model.get_layer('dense_2')(latent_input)\n",
        "\n",
        "latent_to_states_model = tf.keras.Model(latent_input, [state_h_decoded, state_c_decoded])\n",
        "latent_to_states_model.save(\"latent_state.h5\")"
      ]
    },
    {
      "cell_type": "code",
      "execution_count": 73,
      "metadata": {
        "id": "WAdjFvPOkVQR"
      },
      "outputs": [],
      "source": [
        "# Model for random sampling\n",
        "sample_decoder_inputs = layers.Input(batch_shape = (1, 1, input_shape[1]))\n",
        "lstm_out = layers.LSTM(lstm_dim, return_sequences = True, unroll = False, stateful = True)(sample_decoder_inputs)\n",
        "dense_out = layers.Dense(output_dim, activation = 'softmax')(lstm_out)\n",
        "\n",
        "sample_model = tf.keras.Model(sample_decoder_inputs, dense_out)"
      ]
    },
    {
      "cell_type": "code",
      "execution_count": 74,
      "metadata": {
        "id": "u5SiQuahksPg"
      },
      "outputs": [],
      "source": [
        "# Model for random sampling\n",
        "inf_decoder_inputs = layers.Input(batch_shape = (1, 1, input_shape[1]))\n",
        "inf_decoder_lstm = layers.LSTM(lstm_dim, return_sequences = True, unroll = False, stateful = True)\n",
        "\n",
        "inf_decoder_outputs = inf_decoder_lstm(inf_decoder_inputs)\n",
        "inf_decoder_dense = layers.Dense(output_dim, activation = 'softmax')\n",
        "inf_decoder_outputs = inf_decoder_dense(inf_decoder_outputs)\n",
        "\n",
        "sample_model = tf.keras.Model(inf_decoder_inputs, inf_decoder_outputs)"
      ]
    },
    {
      "cell_type": "code",
      "execution_count": 75,
      "metadata": {
        "id": "2EuH0MMPkt6c",
        "colab": {
          "base_uri": "https://localhost:8080/"
        },
        "outputId": "fa89d584-7b5e-44e5-b002-326ff6c303f5"
      },
      "outputs": [
        {
          "output_type": "stream",
          "name": "stdout",
          "text": [
            "WARNING:tensorflow:Compiled the loaded model, but the compiled metrics have yet to be built. `model.compile_metrics` will be empty until you train or evaluate the model.\n",
            "Model: \"model_12\"\n",
            "_________________________________________________________________\n",
            " Layer (type)                Output Shape              Param #   \n",
            "=================================================================\n",
            " input_11 (InputLayer)       [(1, 1, 25)]              0         \n",
            "                                                                 \n",
            " lstm_7 (LSTM)               (1, 1, 64)                23040     \n",
            "                                                                 \n",
            " dense_12 (Dense)            (1, 1, 25)                1625      \n",
            "                                                                 \n",
            "=================================================================\n",
            "Total params: 24,665\n",
            "Trainable params: 24,665\n",
            "Non-trainable params: 0\n",
            "_________________________________________________________________\n"
          ]
        }
      ],
      "source": [
        "# Transfer learned weights\n",
        "for i in range(1, 3):\n",
        "  sample_model.layers[i].set_weights(model.layers[i + 6].get_weights())\n",
        "sample_model.save(\"sample_model.h5\")\n",
        "\n",
        "sample_model.summary()"
      ]
    },
    {
      "cell_type": "code",
      "execution_count": 76,
      "metadata": {
        "id": "XW0Z67hwkviR"
      },
      "outputs": [],
      "source": [
        "# From latent space to SMILES\n",
        "\n",
        "def latent_to_smiles(latent):\n",
        "  states = latent_to_states_model.predict(latent)\n",
        "  sample_model.layers[1].reset_states(states = [states[0], states[1]])\n",
        "  start_idx = char_to_int[\"!\"]\n",
        "  sample_vec = np.zeros((1, 1, 25))\n",
        "  sample_vec[0, 0, start_idx] = 1\n",
        "  smiles = \"\"\n",
        "  for i in range(28):\n",
        "    out = sample_model.predict(sample_vec)\n",
        "    sample_idx = np.argmax(out)\n",
        "    sample_char = int_to_char[sample_idx]\n",
        "    if sample_char != \"E\":\n",
        "      smiles = smiles + int_to_char[sample_idx]\n",
        "      sample_vec = np.zeros((1, 1, 25))\n",
        "      sample_vec[0, 0, sample_idx] = 1\n",
        "    else:\n",
        "      break\n",
        "  return smiles"
      ]
    },
    {
      "cell_type": "code",
      "execution_count": 77,
      "metadata": {
        "id": "YpuB0tN7k02N",
        "colab": {
          "base_uri": "https://localhost:8080/"
        },
        "outputId": "a223b363-799b-4771-8a10-63ee0fae9ed2"
      },
      "outputs": [
        {
          "output_type": "stream",
          "name": "stdout",
          "text": [
            "['NCP18F', 'NC1P', 'NC1PO', 'NC1S', 'NC1S', 'NC1OC1', 'NC1CO1', 'NC1S', 'NC1BO', 'NC1CS1', 'CNPP', 'CN1SB1', 'NC1OF', 'NC1S', 'C1NS1C', 'NC18F', 'NC18F', 'NC1OC1', 'CNP1', 'C1NS1C', 'NC1P', 'NC1P', 'CNP=O', 'NC1CO1', 'NC1CO1', 'NC1OS1', 'CN1PCO', 'NC1OC1', 'NC1CO1', 'NC1OC1', 'NC1BO', 'CN1PO', 'NC1CO1', 'NC1CO1', 'NC1CO1', 'NCP', 'NC1OC1', 'NC18F', 'C1NS1', 'NC1S1', 'NC18F', 'NC1CO1', 'C1OC1O', 'NC1SO1', 'NC1OC1', 'CN1CO1', 'NC1S', 'NC1CO1', 'NC1PO', 'C1OCS1', 'NC1P', 'NC1P', 'CNP1CO/O', 'NC1SB1', 'NC1CO1', 'NC18F', 'CN1CO1', 'NC1CO1', 'CNP', 'NC1P', 'C1OC1S', 'NC1OC1', 'NC1PSI3', 'NC1CO1', 'NC1BO', 'NC1CO1', 'C1NS1=O', 'NC1SC1', 'NC1SC1', 'NC1CO', 'NC1OF1', 'NC1OC1', 'NC1S', 'NC1CO1', 'CNPBO', 'NC1CO1', 'NC1PO', 'NC1PC=O', 'NC1O', 'CNP=O', 'NC1O', 'NC1CS1', 'C1NS1C', 'CNP=O', 'CNPP=O', 'NC18F', 'NC1BO1', 'NC18F', 'NC1CO1', 'NC1CO1', 'NC1P', 'CN1S', 'NC1CO1', 'NC1POC', 'NC1SS2', 'NC18F', 'NC1OC1', 'NC1P=O', 'NC1SB1', 'NC1O', 'NC1P', 'NC1S', 'NC1CO1', 'N1CS1', 'NC1S', 'NC1BO', 'NC1CO1', 'NC1CO1', 'NC18F', 'C1NS1', 'NC1CO1', 'NCP=O', 'NC1P', 'NC1BO', 'NC1CO1', 'NC1CO1', 'NC1S', 'NC18F', 'NC1PSI3', 'C1NS1(N', 'C1OC1O', 'C1NS1(N', 'NC1CO1', 'NC1SC1', 'NC1P', 'NC1O', 'NC1CO1', 'NC1OF1', 'NC1CO1', 'NC1S', 'NC1S', 'NCP', 'NCP', 'NC1OF1', 'NC1S', 'NCP', 'NC1BO', 'C1NS1', 'C1NS1', 'C1NS1(N', 'NC1OBN1', 'NC1CO1', 'NC1P', 'C1NS1', 'NC18F', 'NC1BN', 'NC1CO1', 'NC1S', 'NC18F', 'CNPP', 'NC1P', 'NCP', 'NC1BO', 'NC1SO1', 'NC1CO1', 'NC1OF1', 'NC1S', 'NC1CS1', 'NC18F', 'NC1OC1', 'NC1SI1', 'NC18F', 'C1NS1', 'NC1CO1', 'C1NS1C', 'C1OCS1', 'NC18F', 'NC1CO1', 'NC1CO1', 'C1OC1O', 'NC1PO', 'NC18F', 'C1NS1', 'C1OC1O', 'C1OC1O', 'NC18F', 'CNP1CO', 'C1OC1F', 'NC1CO1', 'NC1CO1', 'C1OCP1', 'NC1SN1', 'NCP', 'NC1P', 'NC1SC1', 'NCP=O', 'CNP1BO1', 'NC18F', 'NC1S', 'NCPBN', 'NC1CO1', 'NC1O', 'NCP', 'C1OC1', 'NC1PO', 'CNP18F', 'CN1P', 'NC1O', 'NC1S', 'NC1S', 'NC1P', 'NC1S', 'NC1CO1', 'NC1CO1', 'NC1SO1', 'NC18F', 'NC1OF', 'NP3BIF', 'NC1PCN=O', 'NC1CO1', 'NC1CO1', 'NC18F', 'NC1CO1', 'NC1OB1', 'NC1S', 'NC1CO1', 'CN1P', 'NC1S', 'NC1CO1', 'NC1S', 'NC1P', 'NC1CO1', 'NC1P', 'CNP1BO', 'NCP', 'NCP', 'NC1CO1', 'NC1P', 'NC1OC1', 'NC18F', 'NC1P', 'NC1S', 'NC1PO', 'NC1P', 'NC1CO1', 'NC1P', 'C1NS1', 'NC1OC1', 'NC1CO1', 'NC1SI1', 'NC1CO1', 'NC1CO1', 'NC1S', 'C1OC1O', 'C1NS1', 'NC1S', 'C1NPO/O', 'NC1S', 'NC1CO1', 'NC1CO1', 'NC1P', 'NC1P', 'C1NS41', 'NC1S', 'NC1CO1', 'NC1CO1', 'NC1CO1', 'C1OC1S', 'NC1CO1', 'NC1CO1', 'NC1PC=N', 'NC1SC1', 'NC1SB1', 'C1OC1S', 'C1OC1O', 'NC1S', 'NC1OC1', 'CNP', 'C1NS1C', 'NC1CO1', 'NC1S', 'CNPBO', 'C1NS1', 'NC1SB1', 'NC1S', 'NC1P', 'NC1CO2S12', 'NC1P', 'NC1P', 'NC1POC', 'NC1P', 'CN1PO', 'C1NS1', 'NC1P', 'CN1S1', 'C1OC1S', 'NC1SI1', 'NC1P', 'NC1P', 'NC1S', 'CNP18F', 'NC1S', 'NC1S', 'NC1CO1', 'NC18F', 'CNPB=O', 'NC1CO1', 'C1NS1C', 'NC1CO1', 'NC1S', 'NC1P', 'NC18F', 'NC1CO1', 'NC1P', 'CNP1CO', 'NC1S', 'NCPBO)N', 'NC1S', 'C1NP=O', 'NC1OF1', 'NC18F', 'NC1OC1', 'NC1O', 'NC1PCN=O', 'NC1OC1', 'NP3S', 'NC1OC1', 'NC1CO1', 'NCP=O)O', 'CN1P', 'NC1PO', 'NC1S2S12', 'CNP1CO', 'NC1OC1', 'CN1P', 'NC1SI1', 'CNP1CO1', 'NC1CO1', 'NP3S', 'CNP1BO', 'NC1SC1', 'NC1CO1', 'C1NS1', 'NC1P', 'NC1OC1', 'CNP', 'NC18F', 'NC1S', 'C1OC1F', 'C1OC1O', 'NC1PO', 'C1OC1S', 'CN1BO1', 'C1NS1', 'NC1CO1', 'CNP1CO1', 'NC1CO1', 'NC1OF', 'NC1P', 'C1NS1C', 'NC1CO1', 'NC1SB1', 'NC1S', 'NC1OBN1', 'NC1OC1', 'CNP1CO', 'NC1PS', 'NC1CO1', 'C1NS1', 'NC1S', 'NC1BO', 'CNP1BO1', 'C1OC1S', 'NC1CO1', 'C1NS1', 'NC1CP=O', 'NC1S', 'NC1CO1', 'NC1S', 'C1NS1', 'CN1SB1', 'NC1S', 'C1NP=O', 'NC18F', 'NC1P', 'NC1BO', 'NC1S', 'NC1BON1', 'NC1CO1', 'C1OCS1', 'NC1OB1', 'NC18F', 'NC1CO1', 'CNP1BO', 'NC1S', 'NC1CO1', 'CN1CO1', 'NC18F', 'NC1CO1', 'NC1CO1', 'NC1S', 'NC1P', 'N1CO1', 'NC1BO', 'NC1O', 'NC1OC1', 'NC1SI1', 'NC1P', 'NC1P', 'NC1S', 'CNPP', 'NC1SC1', 'CNP=O', 'NC1PO', 'NC1PO', 'NC1CS1', 'NC1SI1', 'NC1OC1', 'CNP=O', 'NC1SB1', 'NC1CO1', 'NC1SB1', 'NC1CO1', 'NC1S', 'NC1CO1', 'NC1SC1', 'NC1S', 'NC1CO1', 'NC1CO1', 'NC1CO1', 'NC1PO', 'NC18F', 'NC1CO1', 'CNP1CO', 'CNPB', 'NC18F', 'NC1SB1', 'C1NS41', 'C1NS1(N)', 'C1NS1C', 'NC1CO1', 'NC1CO1', 'NC1OC1', 'C1OC1O', 'NC1S', 'NC1S', 'NC1PS', 'C1NS1', 'NC1CO1', 'NC1CO1', 'NC1P', 'NC1OC1', 'NC1C1O', 'CN1PSI1', 'NC1CO1', 'NC1O', 'NC1P', 'NC1CO1', 'NC1PO', 'NC1CO1', 'C1NS1', 'NC1S', 'CNP', 'C1NS1', 'CN1S', 'NC1PO', 'NC1CO1', 'NC1CO1', 'NC1P', 'NC1CO1', 'NC1P', 'NC1PSI3', 'NC1OC1', 'NC1CO1', 'NC1S', 'NC1OC1', 'NC18F', 'CN1P', 'NC1CS1', 'NC1P', 'NC1O', 'C1NS41', 'NCP', 'CNP1C=O', 'NC1OC1', 'C1NS1', 'NC1S', 'CNPB', 'C1OC1S', 'NC1CO1', 'NC1PO', 'NC1S', 'C1OC1O', 'NC1S1C', 'NC1CO1', 'C1NS1C', 'NC1CS1', 'NC1CO1', 'NC1P', 'NC1S', 'NC1SB1', 'NC1P', 'NC1S', 'NC1CO1', 'NC1P', 'NCP', 'CNPP', 'NC1S', 'NC18F', 'CNPP=N']\n"
          ]
        }
      ],
      "source": [
        "# Generating a list of new SMILES\n",
        "smiles = []\n",
        "for i in range(5000):\n",
        "  smiles.append(latent_to_smiles(val_latent[i:i+1]))\n",
        "print(f'List of New SMILES generated: {smiles}')"
      ]
    },
    {
      "cell_type": "code",
      "source": [
        "# Validating the list of SMILES generated\n",
        "\n",
        "# new_drug_list = []\n",
        "for i in smiles:\n",
        "  var = Chem.MolFromSmiles(i,sanitize=True)\n",
        "  if var != None:\n",
        "    new_drug_list.append(i)\n",
        "new_drug_list = list(set(new_drug_list))\n",
        "print(new_drug_list)\n",
        "\n",
        "#Printing the list of  valid SMILES generated\n",
        "print(f'Valid list of SMILES: {len(new_drug_list)}')\n"
      ],
      "metadata": {
        "colab": {
          "base_uri": "https://localhost:8080/"
        },
        "id": "50rW9BpXUCw1",
        "outputId": "7a697939-4e90-4233-ad72-b4e2b18a8a18"
      },
      "execution_count": 80,
      "outputs": [
        {
          "output_type": "stream",
          "name": "stdout",
          "text": [
            "['NC=S', 'NC1SN1', 'CNPB', 'NC1BON1', 'C1NS1=O', 'NB1BCO1', 'NC1BOBO1', 'NC1=SSI1', 'NBPB(=O)', 'NCP=B', 'NC1OBN1', 'NC1=SC1', 'NCP(=O)O', 'NBP(=O)O', 'CNP1CO1', 'NC1OB1', 'NBP', 'NCP(=O)', 'NC1BOO1', 'CN1SB1', 'NCP=O', 'C1NS1(N)', 'N1CS1', 'CN1BO1', 'NC1BOS1', 'C1OC1', 'CNPP', 'NP=C(N)O', 'NC1=SS1', 'NB1OBC1', 'C1OCP1', 'C1OC1F', 'NP(C)=O', 'NB1BOC1', 'NC1OS1', 'CNPP=O', 'NBPB=B', 'NCP=S', 'NC1SO1', 'NCPBN', 'CNP=S', 'NC1CS1', 'C1OCS1', 'NP', 'CN1CO1', 'C1NS1', 'CNPB=O', 'NCP', 'NC1BOB1', 'NC1B(O)O1', 'NC1BO1', 'CNP=O', 'N1CO1', 'CNP1BO1', 'CNP', 'CN1PSI1', 'NC1CO1', 'C1OC1S', 'C1OC1O', 'NC1SB1', 'C1NS1C', 'CNPP=N', 'NC1SC1', 'NC=S=S', 'NC1SI1', 'NC1OC1', 'CNPBO', 'NBOBC']\n",
            "Valid list of SMILES: 68\n"
          ]
        }
      ]
    },
    {
      "cell_type": "code",
      "source": [
        "# Checking if the validated SMILES are present in the ZINC database\n",
        "zincid_count=0\n",
        "for drug in new_drug_list:\n",
        "  zinc_id = smilite.get_zincid_from_smile(drug)\n",
        "  if len(zinc_id)!=0:\n",
        "    zincid_count+=1\n",
        "    # print(zinc_id)\n",
        "\n",
        "# Count of ZINC Ids matched with ZINC database\n",
        "print(f'Count of ZINC Ids matched: {zincid_count}')\n",
        "print(f'Unique SMILES generated: {len(new_drug_list)-zincid_count}')\n"
      ],
      "metadata": {
        "colab": {
          "base_uri": "https://localhost:8080/"
        },
        "id": "TrrlzLEPaHOG",
        "outputId": "b80e8b10-7d9a-4f5a-85cb-6c92d62c0134"
      },
      "execution_count": 82,
      "outputs": [
        {
          "output_type": "stream",
          "name": "stdout",
          "text": [
            "Count of ZINC Ids matched: 21\n",
            "Unique SMILES generated: 47\n"
          ]
        }
      ]
    }
  ],
  "metadata": {
    "accelerator": "GPU",
    "colab": {
      "machine_shape": "hm",
      "name": "ZINC_project.ipynb",
      "provenance": [],
      "collapsed_sections": []
    },
    "kernelspec": {
      "display_name": "Python 3",
      "name": "python3"
    },
    "language_info": {
      "name": "python"
    }
  },
  "nbformat": 4,
  "nbformat_minor": 0
}