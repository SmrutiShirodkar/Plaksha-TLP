{
  "cells": [
    {
      "cell_type": "code",
      "execution_count": 1,
      "metadata": {
        "id": "jTWzzAoZjMTp"
      },
      "outputs": [],
      "source": [
        "import keras\n",
        "from keras import layers\n",
        "from keras.layers import Dense\n",
        "from keras.wrappers.scikit_learn import KerasClassifier\n",
        "from keras.utils import np_utils\n",
        "from keras.models import Sequential\n",
        "from keras.layers import Dense, Flatten, Dropout, Conv2D, MaxPooling2D\n",
        "from keras import optimizers\n",
        "\n",
        "from keras.datasets import mnist\n",
        "\n",
        "import numpy as np\n",
        "import pandas as pd\n",
        "import matplotlib.pyplot as plt\n",
        "\n",
        "from sklearn.model_selection import StratifiedShuffleSplit\n",
        "from sklearn.datasets import load_digits\n",
        "from sklearn import metrics\n",
        "\n",
        "np.random.seed(10)\n"
      ]
    },
    {
      "cell_type": "code",
      "execution_count": 2,
      "metadata": {
        "id": "1sc3gQ2XKdEK"
      },
      "outputs": [],
      "source": [
        "# Load data and target\n",
        "(x_train, y_train), (x_test, y_test) = mnist.load_data()\n"
      ]
    },
    {
      "cell_type": "code",
      "execution_count": 3,
      "metadata": {
        "colab": {
          "base_uri": "https://localhost:8080/"
        },
        "id": "St3nylZbqkSd",
        "outputId": "389ed05a-c946-4e16-afb2-273dde652e20"
      },
      "outputs": [
        {
          "output_type": "stream",
          "name": "stdout",
          "text": [
            "Training matrix shape (60000, 28, 28)\n",
            "Testing matrix shape (10000, 28, 28)\n"
          ]
        }
      ],
      "source": [
        "x_train = x_train.astype('float32')   # change integers to 32-bit floating point numbers\n",
        "x_test = x_test.astype('float32')\n",
        "\n",
        "x_train /= 255                        # normalize each value for each pixel for the entire vector for each input\n",
        "x_test /= 255\n",
        "\n",
        "print(\"Training matrix shape\", x_train.shape)\n",
        "print(\"Testing matrix shape\", x_test.shape)"
      ]
    },
    {
      "cell_type": "code",
      "execution_count": 4,
      "metadata": {
        "colab": {
          "base_uri": "https://localhost:8080/"
        },
        "id": "6ply3VTZbtug",
        "outputId": "a0460c65-a08f-41e6-ab2e-bf336f0bcf31"
      },
      "outputs": [
        {
          "output_type": "stream",
          "name": "stdout",
          "text": [
            "Number of images training samples: 60000\n",
            "Number of images test samples: 10000\n",
            "Number of classes: 10\n"
          ]
        }
      ],
      "source": [
        "#print the numbers for reference\n",
        "x_train.shape\n",
        "num_classes = len(np.unique(y_train))\n",
        "print (\"Number of images training samples:\", x_train.shape[0])\n",
        "print (\"Number of images test samples:\", x_test.shape[0])\n",
        "print (\"Number of classes:\",num_classes)"
      ]
    },
    {
      "cell_type": "code",
      "execution_count": 5,
      "metadata": {
        "colab": {
          "base_uri": "https://localhost:8080/"
        },
        "id": "y_FSZ7jDqpxJ",
        "outputId": "fa31b28b-11d5-4329-d479-971fa128a327"
      },
      "outputs": [
        {
          "output_type": "stream",
          "name": "stdout",
          "text": [
            "[1 0 0 ... 1 0 0]\n"
          ]
        }
      ],
      "source": [
        "#replace for train labels with 1 for 5 and 0 for non-5 digits\n",
        "def replace_class(y_train):\n",
        "  for i in range(len(y_train)):\n",
        "    if y_train[i] == 5:\n",
        "      y_train[i] = 1\n",
        "    else:\n",
        "      y_train[i] = 0\n",
        "  return y_train\n",
        "print(replace_class(y_train))"
      ]
    },
    {
      "cell_type": "code",
      "execution_count": 6,
      "metadata": {
        "colab": {
          "base_uri": "https://localhost:8080/"
        },
        "id": "NJ41BbayMorm",
        "outputId": "7bfcdb4b-0c4f-4234-a73b-88bac204053e"
      },
      "outputs": [
        {
          "output_type": "stream",
          "name": "stdout",
          "text": [
            "[0 0 0 ... 0 1 0]\n"
          ]
        }
      ],
      "source": [
        "#replace for test labels with 1 for 5 and 0 for non-5 digits\n",
        "def replace_class(y_test):\n",
        "  for i in range(len(y_test)):\n",
        "    if y_test[i] == 5:\n",
        "      y_test[i] = 1\n",
        "    else:\n",
        "      y_test[i] = 0\n",
        "  return y_test\n",
        "print(replace_class(y_test))"
      ]
    },
    {
      "cell_type": "code",
      "execution_count": 7,
      "metadata": {
        "colab": {
          "base_uri": "https://localhost:8080/"
        },
        "id": "yMU09zLWlz9t",
        "outputId": "eb585877-c5a1-495f-b181-5c7b98b7ffce"
      },
      "outputs": [
        {
          "output_type": "stream",
          "name": "stdout",
          "text": [
            "Number of classes: 2\n"
          ]
        }
      ],
      "source": [
        "num_classes = len(np.unique(y_train))\n",
        "print (\"Number of classes:\",num_classes)"
      ]
    },
    {
      "cell_type": "code",
      "execution_count": 8,
      "metadata": {
        "id": "qgLB4qFprBjX"
      },
      "outputs": [],
      "source": [
        "#train index list to drop 95% data of digit 5 only\n",
        "train_index_list = np.where(y_train==1)[0]\n",
        "pick = np.random.choice(range(len(train_index_list)),round(len(train_index_list)*0.95),replace = False)\n",
        "temp1 = [train_index_list[i] for i in pick]\n",
        "\n",
        "#test index list to drop 95% data of digit 5 only\n",
        "test_index_list = np.where(y_test==1)[0]\n",
        "pick = np.random.choice(range(len(test_index_list)),round(len(test_index_list)*0.95),replace = False)\n",
        "temp2 = [test_index_list[i] for i in pick]"
      ]
    },
    {
      "cell_type": "code",
      "execution_count": 9,
      "metadata": {
        "id": "SQZDE_V5HY-j"
      },
      "outputs": [],
      "source": [
        "#drop 95% data from train and test datasets\n",
        "x_train = np.delete(x_train, temp1,0)\n",
        "y_train = np.delete(y_train, temp1)\n",
        "x_test = np.delete(x_test, temp2,0)\n",
        "y_test = np.delete(y_test, temp2)"
      ]
    },
    {
      "cell_type": "code",
      "execution_count": 10,
      "metadata": {
        "colab": {
          "base_uri": "https://localhost:8080/"
        },
        "id": "dERXx_FmIFMh",
        "outputId": "90961b83-147d-43fb-bf9d-4c8467e790ff"
      },
      "outputs": [
        {
          "output_type": "stream",
          "name": "stdout",
          "text": [
            "(54850, 28, 28)\n",
            "(9153, 28, 28)\n",
            "(54850,)\n",
            "(9153,)\n"
          ]
        }
      ],
      "source": [
        "print(x_train.shape)\n",
        "print(x_test.shape)\n",
        "print(y_train.shape)\n",
        "print(y_test.shape)"
      ]
    },
    {
      "cell_type": "code",
      "execution_count": 11,
      "metadata": {
        "id": "s0TyM-pcC_Ot"
      },
      "outputs": [],
      "source": [
        "#concatenate feature and labels data for further reference\n",
        "images = np.concatenate((x_train,x_test),axis=0)\n",
        "labels = np.concatenate((y_train,y_test),axis=0)"
      ]
    },
    {
      "cell_type": "code",
      "execution_count": 12,
      "metadata": {
        "id": "z9QhftZlEvNM"
      },
      "outputs": [],
      "source": [
        "#create one hot encoded data for labels\n",
        "labels = np_utils.to_categorical(labels)"
      ]
    },
    {
      "cell_type": "code",
      "execution_count": 13,
      "metadata": {
        "id": "1QO9HEtwhFZC"
      },
      "outputs": [],
      "source": [
        "#Initiating CNN model\n",
        "def model_cnn():\n",
        "  model = Sequential()                               \n",
        "\n",
        "  # Layer 1\n",
        "  model.add(Conv2D(32, (3, 3), padding='same', input_shape=(28,28,1),activation = 'relu'))\n",
        "  model.add(Conv2D(32, (3, 3), padding='same',activation = 'relu'))\n",
        "  model.add(Dropout(0.25))\n",
        "  model.add(MaxPooling2D(pool_size=(2, 2)))\n",
        "\n",
        "  # Layer 2\n",
        "  model.add(Conv2D(64, (3, 3), padding='same',activation = 'relu'))\n",
        "  model.add(Conv2D(64, (3, 3), padding='same',activation = 'relu'))\n",
        "  model.add(Dropout(0.25))\n",
        "  model.add(MaxPooling2D(pool_size=(2, 2)))\n",
        "\n",
        "  # Layer 3\n",
        "  model.add(Conv2D(160, (3, 3), padding='same',activation = 'relu'))\n",
        "  model.add(Dropout(0.25))\n",
        "  model.add(MaxPooling2D(pool_size=(2, 2)))\n",
        "\n",
        "  model.add(Flatten())\n",
        "\n",
        "  model.add(Dense(units = 160, activation = 'relu'))\n",
        "  model.add(Dropout(0.2))\n",
        "\n",
        "  model.add(Dense(units = 10, activation = 'relu'))\n",
        "  model.add(Dropout(0.2))\n",
        "  model.add(Dense(2, activation='softmax'))               \n",
        "  \n",
        "  model.compile(loss='binary_crossentropy', optimizer='adam', metrics=['accuracy'])\n",
        "  return model"
      ]
    },
    {
      "cell_type": "code",
      "execution_count": 22,
      "metadata": {
        "colab": {
          "base_uri": "https://localhost:8080/"
        },
        "id": "XSIeZHvgRfbf",
        "outputId": "d2d39575-196c-490f-baf7-da83a3e0aa64"
      },
      "outputs": [
        {
          "output_type": "stream",
          "name": "stdout",
          "text": [
            "TRAIN: [ 1667 35925 11122 ... 10306 30721 47414] TEST: [63675 19981 18329 ... 55877  7919  2935]\n",
            "Epoch 1/10\n",
            "401/401 [==============================] - 4s 9ms/step - loss: 0.0656 - accuracy: 0.9933\n",
            "Epoch 2/10\n",
            "401/401 [==============================] - 3s 9ms/step - loss: 0.0161 - accuracy: 0.9981\n",
            "Epoch 3/10\n",
            "401/401 [==============================] - 3s 9ms/step - loss: 0.0099 - accuracy: 0.9986\n",
            "Epoch 4/10\n",
            "401/401 [==============================] - 3s 8ms/step - loss: 0.0073 - accuracy: 0.9992\n",
            "Epoch 5/10\n",
            "401/401 [==============================] - 3s 8ms/step - loss: 0.0072 - accuracy: 0.9993\n",
            "Epoch 6/10\n",
            "401/401 [==============================] - 3s 8ms/step - loss: 0.0069 - accuracy: 0.9994\n",
            "Epoch 7/10\n",
            "401/401 [==============================] - 3s 8ms/step - loss: 0.0062 - accuracy: 0.9993\n",
            "Epoch 8/10\n",
            "401/401 [==============================] - 3s 8ms/step - loss: 0.0046 - accuracy: 0.9996\n",
            "Epoch 9/10\n",
            "401/401 [==============================] - 3s 8ms/step - loss: 0.0046 - accuracy: 0.9996\n",
            "Epoch 10/10\n",
            "401/401 [==============================] - 3s 8ms/step - loss: 0.0042 - accuracy: 0.9995\n",
            "401/401 [==============================] - 2s 3ms/step - loss: 0.0016 - accuracy: 0.9994\n",
            "[0.0015981544274836779, 0.99937504529953]\n"
          ]
        }
      ],
      "source": [
        "#running the CNN model on stratified data split into 80-20 ratio\n",
        "sss = StratifiedShuffleSplit(n_splits=1, test_size=0.2, random_state=10)\n",
        "for train_index, test_index in sss.split(images,labels):\n",
        "  print(\"TRAIN:\", train_index, \"TEST:\", test_index)\n",
        "  x_train, x_test = images[train_index], images[test_index]\n",
        "  y_train, y_test = labels[train_index], labels[test_index]\n",
        "  model=model_cnn()\n",
        "  model.fit(x_train, y_train,epochs=10, batch_size=128, verbose=1)\n",
        "  print(model.evaluate(x_test, y_test))"
      ]
    },
    {
      "cell_type": "code",
      "execution_count": 23,
      "metadata": {
        "colab": {
          "base_uri": "https://localhost:8080/"
        },
        "id": "M4HqHOn9RlIc",
        "outputId": "3744045f-b9eb-4afb-b699-c6764007b71f"
      },
      "outputs": [
        {
          "output_type": "stream",
          "name": "stdout",
          "text": [
            "[[12737     1]\n",
            " [    7    56]]\n"
          ]
        }
      ],
      "source": [
        "#creating a confusion matrix to gauge the correct performance of the model\n",
        "y_pred = np.argmax(model.predict(x_test), axis=-1)\n",
        "y_test = np.argmax((y_test), axis=-1)\n",
        "cm=metrics.confusion_matrix(y_test, y_pred)\n",
        "print(cm)"
      ]
    },
    {
      "cell_type": "code",
      "execution_count": 24,
      "metadata": {
        "id": "USveEZnL33Xq"
      },
      "outputs": [],
      "source": [
        "from numpy import expand_dims\n",
        "from numpy import zeros\n",
        "from numpy import ones\n",
        "from numpy import vstack\n",
        "from numpy.random import randn\n",
        "from numpy.random import randint\n",
        "from keras.layers import Reshape\n",
        "from keras.layers import Flatten\n",
        "from keras.layers import Conv2D\n",
        "from keras.layers import Conv2DTranspose\n",
        "from keras.layers import LeakyReLU\n",
        "from matplotlib import pyplot\n",
        "from tensorflow.keras.optimizers import Adam"
      ]
    },
    {
      "cell_type": "code",
      "execution_count": 26,
      "metadata": {
        "colab": {
          "base_uri": "https://localhost:8080/"
        },
        "id": "srdOGiCz4Bxq",
        "outputId": "2836886c-6760-4aae-b416-3c237ef6982e"
      },
      "outputs": [
        {
          "output_type": "stream",
          "name": "stdout",
          "text": [
            "D_loss: 0.5872055292129517 G_loss: 0.6972579956054688\n",
            "D_loss: 0.3526886999607086 G_loss: 0.7327490448951721\n",
            "D_loss: 0.28080469369888306 G_loss: 1.4994890689849854\n",
            "D_loss: 0.26794666051864624 G_loss: 1.0818939208984375\n",
            "D_loss: 0.09351865947246552 G_loss: 2.0494256019592285\n",
            "D_loss: 0.04521624743938446 G_loss: 3.038402557373047\n",
            "D_loss: 0.04027918726205826 G_loss: 3.572005033493042\n",
            "D_loss: 0.017364010214805603 G_loss: 3.9122986793518066\n",
            "D_loss: 0.006508877966552973 G_loss: 4.369635581970215\n",
            "D_loss: 0.006372396368533373 G_loss: 4.305562973022461\n",
            "D_loss: 0.007909576408565044 G_loss: 4.557278633117676\n",
            "D_loss: 0.0031176097691059113 G_loss: 5.126757621765137\n",
            "D_loss: 0.01999818906188011 G_loss: 5.22074556350708\n",
            "D_loss: 0.8550803661346436 G_loss: 1.0323160886764526\n",
            "D_loss: 0.4707583785057068 G_loss: 1.0004830360412598\n",
            "D_loss: 0.7516202926635742 G_loss: 0.569625973701477\n",
            "D_loss: 0.7572505474090576 G_loss: 0.8564823865890503\n",
            "D_loss: 0.700911819934845 G_loss: 0.7194140553474426\n",
            "D_loss: 0.6772336959838867 G_loss: 0.709811806678772\n",
            "D_loss: 0.7759405374526978 G_loss: 0.7641957998275757\n",
            "D_loss: 0.5892757773399353 G_loss: 0.8107970356941223\n",
            "D_loss: 0.6881260871887207 G_loss: 0.6962487697601318\n",
            "D_loss: 0.7134138345718384 G_loss: 0.852588951587677\n",
            "D_loss: 0.57823246717453 G_loss: 0.7979678511619568\n",
            "D_loss: 0.7334281206130981 G_loss: 0.7326815724372864\n",
            "D_loss: 0.6004979610443115 G_loss: 0.6551744937896729\n",
            "D_loss: 0.6705530285835266 G_loss: 0.786378026008606\n",
            "D_loss: 0.6810370683670044 G_loss: 0.7447974681854248\n",
            "D_loss: 0.6023337244987488 G_loss: 0.8002744913101196\n",
            "D_loss: 0.7515558004379272 G_loss: 0.654204249382019\n",
            "D_loss: 0.6668038964271545 G_loss: 0.7956413626670837\n",
            "D_loss: 0.6582210659980774 G_loss: 0.8053171038627625\n",
            "D_loss: 0.6496976613998413 G_loss: 0.5780488848686218\n",
            "D_loss: 0.694451630115509 G_loss: 0.7325685024261475\n",
            "D_loss: 0.6069244742393494 G_loss: 0.7337507009506226\n",
            "D_loss: 0.7310456037521362 G_loss: 0.7067974805831909\n",
            "D_loss: 0.7589015364646912 G_loss: 0.7247229814529419\n",
            "D_loss: 0.6415592432022095 G_loss: 0.7314552068710327\n",
            "D_loss: 0.7095450162887573 G_loss: 0.7802954912185669\n",
            "D_loss: 0.6861993670463562 G_loss: 0.7542445659637451\n"
          ]
        }
      ],
      "source": [
        "#defining a discriminator model\n",
        "def discriminator(in_shape=(28,28,1)):\n",
        "\tmodel = Sequential()\n",
        "\tmodel.add(Conv2D(64, (3,3), strides=(2, 2), padding='same', input_shape=in_shape))\n",
        "\tmodel.add(LeakyReLU(alpha=0.2))\n",
        "\tmodel.add(Dropout(0.4))\n",
        "\tmodel.add(Conv2D(64, (3,3), strides=(2, 2), padding='same'))\n",
        "\tmodel.add(LeakyReLU(alpha=0.2))\n",
        "\tmodel.add(Dropout(0.4))\n",
        "\tmodel.add(Flatten())\n",
        "\tmodel.add(Dense(1, activation='sigmoid'))\n",
        "\topt = Adam(learning_rate=0.0002, beta_1=0.5)\n",
        "\tmodel.compile(loss='binary_crossentropy', optimizer=opt, metrics=['accuracy'])\n",
        "\treturn model\n",
        "\n",
        "# define the standalone generator model\n",
        "def generator(latent_dim):\n",
        "\tmodel = Sequential()\n",
        "\tn_nodes = 128 * 7 * 7\n",
        "\tmodel.add(Dense(n_nodes, input_dim=latent_dim))\n",
        "\tmodel.add(LeakyReLU(alpha=0.2))\n",
        "\tmodel.add(Reshape((7, 7, 128)))\n",
        "\tmodel.add(Conv2DTranspose(128, (4,4), strides=(2,2), padding='same'))\n",
        "\tmodel.add(LeakyReLU(alpha=0.2))\n",
        "\tmodel.add(Conv2DTranspose(128, (4,4), strides=(2,2), padding='same'))\n",
        "\tmodel.add(LeakyReLU(alpha=0.2))\n",
        "\tmodel.add(Conv2D(1, (14,14), activation='sigmoid', padding='same'))\n",
        "\treturn model\n",
        "\n",
        "# define the combined generator and discriminator model, for updating the generator\n",
        "def define_gan(g_model, d_model):\n",
        "\td_model.trainable = False\n",
        "\tmodel = Sequential()\n",
        "\tmodel.add(g_model)\n",
        "\tmodel.add(d_model)\n",
        "\topt = Adam(learning_rate=0.0002, beta_1=0.5)\n",
        "\tmodel.compile(loss='binary_crossentropy', optimizer=opt)\n",
        "\treturn model\n",
        "\n",
        "# load and prepare mnist training images\n",
        "def expand_samples(X,Y):\n",
        "  trainX = [i for i,j in zip(X,Y) if j[1] == 1]\n",
        "  X = expand_dims(trainX, axis=-1)\n",
        "  return X\n",
        "\n",
        "# select real samples\n",
        "def generate_real_samples(dataset, n_samples):\n",
        "\tix = randint(0, dataset.shape[0], n_samples)\n",
        "\tX = dataset[ix]\n",
        "\ty = ones((n_samples, 1))\n",
        "\treturn X, y\n",
        "\n",
        "# generate points in latent space as input for the generator\n",
        "def generate_latent_points(latent_dim, n_samples):\n",
        "\tx_input = randn(latent_dim * n_samples)\n",
        "\tx_input = x_input.reshape(n_samples, latent_dim)\n",
        "\treturn x_input\n",
        "\n",
        "# use the generator to generate n fake examples, with class labels\n",
        "def generate_fake_samples(g_model, latent_dim, n_samples):\n",
        "\tx_input = generate_latent_points(latent_dim, n_samples)\n",
        "\tX = g_model.predict(x_input)\n",
        "\ty = zeros((n_samples, 1))\n",
        "\treturn X, y\n",
        "\n",
        "# train the generator and discriminator\n",
        "def train(g_model, d_model, gan_model, dataset, latent_dim, n_epochs=40, n_batch=8):\n",
        "\tbat_per_epo = int(dataset.shape[0] / n_batch)\n",
        "\thalf_batch = int(n_batch / 2)\n",
        "\tfor i in range(n_epochs):\n",
        "\t\tfor j in range(bat_per_epo):\n",
        "\t\t\tX_real, y_real = generate_real_samples(dataset, half_batch)\n",
        "\t\t\tX_fake, y_fake = generate_fake_samples(g_model, latent_dim, half_batch)\n",
        "\t\t\tX, y = vstack((X_real, X_fake)), vstack((y_real, y_fake))\n",
        "\t\t\td_loss, _ = d_model.train_on_batch(X, y)\n",
        "\t\t\tX_gan = generate_latent_points(latent_dim, n_batch)\n",
        "\t\t\ty_gan = ones((n_batch, 1))\n",
        "\t\t\tg_loss = gan_model.train_on_batch(X_gan, y_gan)\n",
        "\t\tprint(\"D_loss:\",d_loss,\"G_loss:\", g_loss)\n",
        "\n",
        "\n",
        "latent_dim = 100\n",
        "#calling all the functions\n",
        "d_model = discriminator()\n",
        "g_model = generator(latent_dim)\n",
        "gan_model = define_gan(g_model, d_model)\n",
        "dataset = expand_samples(images,labels)\n",
        "train(g_model, d_model, gan_model, dataset, latent_dim)\n",
        "# source: https://machinelearningmastery.com/how-to-interpolate-and-perform-vector-arithmetic-with-faces-using-a-generative-adversarial-network/"
      ]
    },
    {
      "cell_type": "code",
      "execution_count": 27,
      "metadata": {
        "id": "sUbbCjUc4KdO",
        "colab": {
          "base_uri": "https://localhost:8080/",
          "height": 248
        },
        "outputId": "306a85bf-fed6-4733-e7a0-2a1ec5ecc709"
      },
      "outputs": [
        {
          "output_type": "display_data",
          "data": {
            "image/png": "[encoded data removed]",
            "text/plain": [
              "<Figure size 432x288 with 25 Axes>"
            ]
          },
          "metadata": {
            "needs_background": "light"
          }
        }
      ],
      "source": [
        "# generate points in latent space as input for the generator\n",
        "def generate_latent_points(latent_dim, n_samples):\n",
        "\tx_input = randn(latent_dim * n_samples)\n",
        "\tx_input = x_input.reshape(n_samples, latent_dim)\n",
        "\treturn x_input\n",
        " \n",
        "# create and save a plot of generated images (reversed grayscale)\n",
        "def save_plot(examples, n):\n",
        "\tfor i in range(n * n):\n",
        "\t\tplt.subplot(n, n, 1 + i)\n",
        "\t\tplt.axis('off')\n",
        "\t\tplt.imshow(examples[i, :, :, 0],cmap=\"gray\")\n",
        "\tplt.show()\n",
        " \n",
        "model = g_model\n",
        "latent_points = generate_latent_points(100, 64003)\n",
        "X_results = model.predict(latent_points)\n",
        "save_plot(X_results, 5)"
      ]
    },
    {
      "cell_type": "code",
      "execution_count": 28,
      "metadata": {
        "id": "GW0_BIQ64MdW",
        "colab": {
          "base_uri": "https://localhost:8080/"
        },
        "outputId": "b4d82526-ec17-4223-de7c-29e88bfb7fc9"
      },
      "outputs": [
        {
          "output_type": "stream",
          "name": "stdout",
          "text": [
            "(12801, 28, 28) (64003, 28, 28)\n"
          ]
        }
      ],
      "source": [
        "X_results = X_results.reshape(64003,28,28)\n",
        "Y_results = ones((64003, 1))\n",
        "Y_results = np_utils.to_categorical(Y_results)\n",
        "print(x_test.shape, X_results.shape)"
      ]
    },
    {
      "cell_type": "code",
      "execution_count": 29,
      "metadata": {
        "id": "O0ljqEcL4a98"
      },
      "outputs": [],
      "source": [
        "#combining the dataset of newly generated images and labels data\n",
        "images_new = np.concatenate((images, X_results), axis=0)\n",
        "labels_new = np.concatenate((labels, Y_results), axis=0)"
      ]
    },
    {
      "cell_type": "code",
      "execution_count": 32,
      "metadata": {
        "id": "74_i2zOO4ctF",
        "colab": {
          "base_uri": "https://localhost:8080/"
        },
        "outputId": "c1fb5f7a-da3e-4fbe-a71c-a38d43871f46"
      },
      "outputs": [
        {
          "output_type": "stream",
          "name": "stdout",
          "text": [
            "Epoch 1/10\n",
            "513/513 [==============================] - 7s 11ms/step - loss: 0.0620 - accuracy: 0.9870\n",
            "Epoch 2/10\n",
            "513/513 [==============================] - 6s 11ms/step - loss: 0.0121 - accuracy: 0.9987\n",
            "Epoch 3/10\n",
            "513/513 [==============================] - 6s 11ms/step - loss: 0.0065 - accuracy: 0.9987\n",
            "Epoch 4/10\n",
            "513/513 [==============================] - 6s 11ms/step - loss: 0.0051 - accuracy: 0.9989\n",
            "Epoch 5/10\n",
            "513/513 [==============================] - 6s 11ms/step - loss: 0.0046 - accuracy: 0.9991\n",
            "Epoch 6/10\n",
            "513/513 [==============================] - 6s 11ms/step - loss: 0.0043 - accuracy: 0.9991\n",
            "Epoch 7/10\n",
            "513/513 [==============================] - 6s 11ms/step - loss: 0.0032 - accuracy: 0.9993\n",
            "Epoch 8/10\n",
            "513/513 [==============================] - 6s 11ms/step - loss: 0.0035 - accuracy: 0.9993\n",
            "Epoch 9/10\n",
            "513/513 [==============================] - 6s 11ms/step - loss: 0.0038 - accuracy: 0.9991\n",
            "Epoch 10/10\n",
            "513/513 [==============================] - 6s 11ms/step - loss: 0.0030 - accuracy: 0.9992\n",
            "801/801 [==============================] - 3s 3ms/step - loss: 0.0016 - accuracy: 0.9996\n",
            "[0.0016470925183966756, 0.9996094107627869]\n"
          ]
        }
      ],
      "source": [
        "#running the CNN model again on new dataset with the augmented data\n",
        "sss_new = StratifiedShuffleSplit(n_splits=1, test_size=0.2, random_state=0)\n",
        "for train_index, test_index in sss_new.split(images_new,labels_new):\n",
        "  x_train1, x_test1 = images_new[train_index], images_new[test_index]\n",
        "  y_train1, y_test1 = labels_new[train_index], labels_new[test_index]\n",
        "  model=model_cnn()\n",
        "  model.fit(x_train1, y_train1,epochs=10, batch_size=200, verbose=1)\n",
        "  print(model.evaluate(x_test1, y_test1))"
      ]
    },
    {
      "cell_type": "code",
      "execution_count": 33,
      "metadata": {
        "id": "vXscME144rw8",
        "colab": {
          "base_uri": "https://localhost:8080/"
        },
        "outputId": "cb4869e7-0f7f-4b25-eefd-006a0c68f79b"
      },
      "outputs": [
        {
          "output_type": "stream",
          "name": "stdout",
          "text": [
            "[[12736     2]\n",
            " [    8 12856]]\n"
          ]
        }
      ],
      "source": [
        "y_pred_new = np.argmax(model.predict(x_test1), axis=-1)\n",
        "y_test1 = np.argmax((y_test1), axis=-1)\n",
        "print(metrics.confusion_matrix(y_test1, y_pred_new))"
      ]
    },
    {
      "cell_type": "markdown",
      "source": [
        "**Comment on any differences that you saw in the two cases and generalize your comments on the utility of the approach above. **\n",
        "\n",
        "Ans:\n",
        "1. High accuracy of a machine learning model doesn't mean that the model is performing greatly. We measure the performance of the model quantitively, howevere, it is not the only factor to note.\n",
        "\n",
        "2. Accuracy counts all of the true predicted values, but not specific for each label that exists. This is a serious concern if your goal wants to predict a specific label, for example, a positive label, correctly.\n",
        "\n",
        "3. This is proven well in the above example where we got high accuracy for the CNN model when the data of digit 5 was less and slightly improved after augmenting the newly generated data.\n",
        "\n",
        "4. This is extremely important in the cases where we are getting mispredictions in terms of lower data, however, those mispredictions add to a lot of misery and thus needs to be avoided.\n",
        "\n",
        "5. These are the observatiobs from the above cases."
      ],
      "metadata": {
        "id": "9RtoXJ5BQykA"
      }
    }
  ],
  "metadata": {
    "accelerator": "GPU",
    "colab": {
      "collapsed_sections": [],
      "machine_shape": "hm",
      "name": "ML2Lab2_3.ipynb",
      "provenance": []
    },
    "kernelspec": {
      "display_name": "Python 3",
      "name": "python3"
    },
    "language_info": {
      "name": "python"
    }
  },
  "nbformat": 4,
  "nbformat_minor": 0
}